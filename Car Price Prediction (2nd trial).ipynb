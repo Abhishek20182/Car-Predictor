{
 "cells": [
  {
   "cell_type": "code",
   "execution_count": 102,
   "id": "6ee152fd",
   "metadata": {},
   "outputs": [],
   "source": [
    "import pandas as pd\n",
    "import warnings\n",
    "warnings.filterwarnings('ignore')"
   ]
  },
  {
   "cell_type": "code",
   "execution_count": 2,
   "id": "de8dd590",
   "metadata": {},
   "outputs": [],
   "source": [
    "car_df = pd.read_csv('archive.zip')"
   ]
  },
  {
   "cell_type": "code",
   "execution_count": 7,
   "id": "faf63461",
   "metadata": {},
   "outputs": [],
   "source": [
    "car_df.columns = car_df.columns.str.lower().str.replace(' ', '_')\n",
    "string_columns = list(car_df.dtypes[car_df.dtypes == 'object'].index)\n",
    "for col in string_columns:\n",
    "    car_df[col] = car_df[col].str.lower().str.replace(' ', '_')"
   ]
  },
  {
   "cell_type": "code",
   "execution_count": 8,
   "id": "3dc289e4",
   "metadata": {},
   "outputs": [
    {
     "data": {
      "text/html": [
       "<div>\n",
       "<style scoped>\n",
       "    .dataframe tbody tr th:only-of-type {\n",
       "        vertical-align: middle;\n",
       "    }\n",
       "\n",
       "    .dataframe tbody tr th {\n",
       "        vertical-align: top;\n",
       "    }\n",
       "\n",
       "    .dataframe thead th {\n",
       "        text-align: right;\n",
       "    }\n",
       "</style>\n",
       "<table border=\"1\" class=\"dataframe\">\n",
       "  <thead>\n",
       "    <tr style=\"text-align: right;\">\n",
       "      <th></th>\n",
       "      <th>count</th>\n",
       "      <th>mean</th>\n",
       "      <th>std</th>\n",
       "      <th>min</th>\n",
       "      <th>25%</th>\n",
       "      <th>50%</th>\n",
       "      <th>75%</th>\n",
       "      <th>max</th>\n",
       "    </tr>\n",
       "  </thead>\n",
       "  <tbody>\n",
       "    <tr>\n",
       "      <th>year</th>\n",
       "      <td>11914.0</td>\n",
       "      <td>2010.384338</td>\n",
       "      <td>7.579740</td>\n",
       "      <td>1990.0</td>\n",
       "      <td>2007.0</td>\n",
       "      <td>2015.0</td>\n",
       "      <td>2016.00</td>\n",
       "      <td>2017.0</td>\n",
       "    </tr>\n",
       "    <tr>\n",
       "      <th>engine_hp</th>\n",
       "      <td>11845.0</td>\n",
       "      <td>249.386070</td>\n",
       "      <td>109.191870</td>\n",
       "      <td>55.0</td>\n",
       "      <td>170.0</td>\n",
       "      <td>227.0</td>\n",
       "      <td>300.00</td>\n",
       "      <td>1001.0</td>\n",
       "    </tr>\n",
       "    <tr>\n",
       "      <th>engine_cylinders</th>\n",
       "      <td>11884.0</td>\n",
       "      <td>5.628829</td>\n",
       "      <td>1.780559</td>\n",
       "      <td>0.0</td>\n",
       "      <td>4.0</td>\n",
       "      <td>6.0</td>\n",
       "      <td>6.00</td>\n",
       "      <td>16.0</td>\n",
       "    </tr>\n",
       "    <tr>\n",
       "      <th>number_of_doors</th>\n",
       "      <td>11908.0</td>\n",
       "      <td>3.436093</td>\n",
       "      <td>0.881315</td>\n",
       "      <td>2.0</td>\n",
       "      <td>2.0</td>\n",
       "      <td>4.0</td>\n",
       "      <td>4.00</td>\n",
       "      <td>4.0</td>\n",
       "    </tr>\n",
       "    <tr>\n",
       "      <th>highway_mpg</th>\n",
       "      <td>11914.0</td>\n",
       "      <td>26.637485</td>\n",
       "      <td>8.863001</td>\n",
       "      <td>12.0</td>\n",
       "      <td>22.0</td>\n",
       "      <td>26.0</td>\n",
       "      <td>30.00</td>\n",
       "      <td>354.0</td>\n",
       "    </tr>\n",
       "    <tr>\n",
       "      <th>city_mpg</th>\n",
       "      <td>11914.0</td>\n",
       "      <td>19.733255</td>\n",
       "      <td>8.987798</td>\n",
       "      <td>7.0</td>\n",
       "      <td>16.0</td>\n",
       "      <td>18.0</td>\n",
       "      <td>22.00</td>\n",
       "      <td>137.0</td>\n",
       "    </tr>\n",
       "    <tr>\n",
       "      <th>popularity</th>\n",
       "      <td>11914.0</td>\n",
       "      <td>1554.911197</td>\n",
       "      <td>1441.855347</td>\n",
       "      <td>2.0</td>\n",
       "      <td>549.0</td>\n",
       "      <td>1385.0</td>\n",
       "      <td>2009.00</td>\n",
       "      <td>5657.0</td>\n",
       "    </tr>\n",
       "    <tr>\n",
       "      <th>msrp</th>\n",
       "      <td>11914.0</td>\n",
       "      <td>40594.737032</td>\n",
       "      <td>60109.103604</td>\n",
       "      <td>2000.0</td>\n",
       "      <td>21000.0</td>\n",
       "      <td>29995.0</td>\n",
       "      <td>42231.25</td>\n",
       "      <td>2065902.0</td>\n",
       "    </tr>\n",
       "  </tbody>\n",
       "</table>\n",
       "</div>"
      ],
      "text/plain": [
       "                    count          mean           std     min      25%  \\\n",
       "year              11914.0   2010.384338      7.579740  1990.0   2007.0   \n",
       "engine_hp         11845.0    249.386070    109.191870    55.0    170.0   \n",
       "engine_cylinders  11884.0      5.628829      1.780559     0.0      4.0   \n",
       "number_of_doors   11908.0      3.436093      0.881315     2.0      2.0   \n",
       "highway_mpg       11914.0     26.637485      8.863001    12.0     22.0   \n",
       "city_mpg          11914.0     19.733255      8.987798     7.0     16.0   \n",
       "popularity        11914.0   1554.911197   1441.855347     2.0    549.0   \n",
       "msrp              11914.0  40594.737032  60109.103604  2000.0  21000.0   \n",
       "\n",
       "                      50%       75%        max  \n",
       "year               2015.0   2016.00     2017.0  \n",
       "engine_hp           227.0    300.00     1001.0  \n",
       "engine_cylinders      6.0      6.00       16.0  \n",
       "number_of_doors       4.0      4.00        4.0  \n",
       "highway_mpg          26.0     30.00      354.0  \n",
       "city_mpg             18.0     22.00      137.0  \n",
       "popularity         1385.0   2009.00     5657.0  \n",
       "msrp              29995.0  42231.25  2065902.0  "
      ]
     },
     "execution_count": 8,
     "metadata": {},
     "output_type": "execute_result"
    }
   ],
   "source": [
    "car_df.describe().T"
   ]
  },
  {
   "cell_type": "code",
   "execution_count": 9,
   "id": "350f35c2",
   "metadata": {},
   "outputs": [
    {
     "data": {
      "text/plain": [
       "Index(['make', 'model', 'year', 'engine_fuel_type', 'engine_hp',\n",
       "       'engine_cylinders', 'transmission_type', 'driven_wheels',\n",
       "       'number_of_doors', 'market_category', 'vehicle_size', 'vehicle_style',\n",
       "       'highway_mpg', 'city_mpg', 'popularity', 'msrp'],\n",
       "      dtype='object')"
      ]
     },
     "execution_count": 9,
     "metadata": {},
     "output_type": "execute_result"
    }
   ],
   "source": [
    "car_df.columns"
   ]
  },
  {
   "cell_type": "code",
   "execution_count": 13,
   "id": "2e1a6aee",
   "metadata": {},
   "outputs": [],
   "source": [
    "cat_vars = ['object']\n",
    "cat_df = car_df.select_dtypes(include=cat_vars)"
   ]
  },
  {
   "cell_type": "code",
   "execution_count": 15,
   "id": "dfe7dfbc",
   "metadata": {},
   "outputs": [
    {
     "name": "stdout",
     "output_type": "stream",
     "text": [
      "make :\n",
      "chevrolet     1123\n",
      "ford           881\n",
      "volkswagen     809\n",
      "toyota         746\n",
      "dodge          626\n",
      "Name: make, dtype: int64\n",
      "--------------------------------------------------\n",
      "model :\n",
      "silverado_1500        156\n",
      "tundra                140\n",
      "f-150                 126\n",
      "sierra_1500            90\n",
      "beetle_convertible     89\n",
      "Name: model, dtype: int64\n",
      "--------------------------------------------------\n",
      "engine_fuel_type :\n",
      "regular_unleaded                  7172\n",
      "premium_unleaded_(required)       2009\n",
      "premium_unleaded_(recommended)    1523\n",
      "flex-fuel_(unleaded/e85)           899\n",
      "diesel                             154\n",
      "Name: engine_fuel_type, dtype: int64\n",
      "--------------------------------------------------\n",
      "transmission_type :\n",
      "automatic           8266\n",
      "manual              2935\n",
      "automated_manual     626\n",
      "direct_drive          68\n",
      "unknown               19\n",
      "Name: transmission_type, dtype: int64\n",
      "--------------------------------------------------\n",
      "driven_wheels :\n",
      "front_wheel_drive    4787\n",
      "rear_wheel_drive     3371\n",
      "all_wheel_drive      2353\n",
      "four_wheel_drive     1403\n",
      "Name: driven_wheels, dtype: int64\n",
      "--------------------------------------------------\n",
      "market_category :\n",
      "crossover             1110\n",
      "flex_fuel              872\n",
      "luxury                 855\n",
      "luxury,performance     673\n",
      "hatchback              641\n",
      "Name: market_category, dtype: int64\n",
      "--------------------------------------------------\n",
      "vehicle_size :\n",
      "compact    4764\n",
      "midsize    4373\n",
      "large      2777\n",
      "Name: vehicle_size, dtype: int64\n",
      "--------------------------------------------------\n",
      "vehicle_style :\n",
      "sedan            3048\n",
      "4dr_suv          2488\n",
      "coupe            1211\n",
      "convertible       793\n",
      "4dr_hatchback     702\n",
      "Name: vehicle_style, dtype: int64\n",
      "--------------------------------------------------\n"
     ]
    }
   ],
   "source": [
    "#Most Frequent variables\n",
    "for col in cat_df.columns:\n",
    "    print(col, ':')\n",
    "    print(car_df[col].value_counts().sort_values(ascending=False).head(5))\n",
    "    print('-'*50)"
   ]
  },
  {
   "cell_type": "code",
   "execution_count": 58,
   "id": "0b741724",
   "metadata": {},
   "outputs": [
    {
     "data": {
      "text/html": [
       "<div>\n",
       "<style scoped>\n",
       "    .dataframe tbody tr th:only-of-type {\n",
       "        vertical-align: middle;\n",
       "    }\n",
       "\n",
       "    .dataframe tbody tr th {\n",
       "        vertical-align: top;\n",
       "    }\n",
       "\n",
       "    .dataframe thead th {\n",
       "        text-align: right;\n",
       "    }\n",
       "</style>\n",
       "<table border=\"1\" class=\"dataframe\">\n",
       "  <thead>\n",
       "    <tr style=\"text-align: right;\">\n",
       "      <th></th>\n",
       "      <th>year</th>\n",
       "      <th>engine_hp</th>\n",
       "      <th>engine_cylinders</th>\n",
       "      <th>number_of_doors</th>\n",
       "      <th>highway_mpg</th>\n",
       "      <th>city_mpg</th>\n",
       "      <th>popularity</th>\n",
       "      <th>msrp</th>\n",
       "    </tr>\n",
       "  </thead>\n",
       "  <tbody>\n",
       "    <tr>\n",
       "      <th>0</th>\n",
       "      <td>2011</td>\n",
       "      <td>335.0</td>\n",
       "      <td>6.0</td>\n",
       "      <td>2.0</td>\n",
       "      <td>26</td>\n",
       "      <td>19</td>\n",
       "      <td>3916</td>\n",
       "      <td>46135</td>\n",
       "    </tr>\n",
       "    <tr>\n",
       "      <th>1</th>\n",
       "      <td>2011</td>\n",
       "      <td>300.0</td>\n",
       "      <td>6.0</td>\n",
       "      <td>2.0</td>\n",
       "      <td>28</td>\n",
       "      <td>19</td>\n",
       "      <td>3916</td>\n",
       "      <td>40650</td>\n",
       "    </tr>\n",
       "    <tr>\n",
       "      <th>2</th>\n",
       "      <td>2011</td>\n",
       "      <td>300.0</td>\n",
       "      <td>6.0</td>\n",
       "      <td>2.0</td>\n",
       "      <td>28</td>\n",
       "      <td>20</td>\n",
       "      <td>3916</td>\n",
       "      <td>36350</td>\n",
       "    </tr>\n",
       "    <tr>\n",
       "      <th>3</th>\n",
       "      <td>2011</td>\n",
       "      <td>230.0</td>\n",
       "      <td>6.0</td>\n",
       "      <td>2.0</td>\n",
       "      <td>28</td>\n",
       "      <td>18</td>\n",
       "      <td>3916</td>\n",
       "      <td>29450</td>\n",
       "    </tr>\n",
       "    <tr>\n",
       "      <th>4</th>\n",
       "      <td>2011</td>\n",
       "      <td>230.0</td>\n",
       "      <td>6.0</td>\n",
       "      <td>2.0</td>\n",
       "      <td>28</td>\n",
       "      <td>18</td>\n",
       "      <td>3916</td>\n",
       "      <td>34500</td>\n",
       "    </tr>\n",
       "  </tbody>\n",
       "</table>\n",
       "</div>"
      ],
      "text/plain": [
       "   year  engine_hp  engine_cylinders  number_of_doors  highway_mpg  city_mpg  \\\n",
       "0  2011      335.0               6.0              2.0           26        19   \n",
       "1  2011      300.0               6.0              2.0           28        19   \n",
       "2  2011      300.0               6.0              2.0           28        20   \n",
       "3  2011      230.0               6.0              2.0           28        18   \n",
       "4  2011      230.0               6.0              2.0           28        18   \n",
       "\n",
       "   popularity   msrp  \n",
       "0        3916  46135  \n",
       "1        3916  40650  \n",
       "2        3916  36350  \n",
       "3        3916  29450  \n",
       "4        3916  34500  "
      ]
     },
     "execution_count": 58,
     "metadata": {},
     "output_type": "execute_result"
    }
   ],
   "source": [
    "numerics = ['int64', 'float64']\n",
    "num_df = car_df.select_dtypes(include=numerics)\n",
    "num_df.head()"
   ]
  },
  {
   "cell_type": "code",
   "execution_count": 59,
   "id": "efa3fa20",
   "metadata": {},
   "outputs": [],
   "source": [
    "num_df = num_df.drop(['msrp'], axis=1)"
   ]
  },
  {
   "cell_type": "code",
   "execution_count": 60,
   "id": "78d2a822",
   "metadata": {},
   "outputs": [
    {
     "data": {
      "text/plain": [
       "Index(['year', 'engine_hp', 'engine_cylinders', 'number_of_doors',\n",
       "       'highway_mpg', 'city_mpg', 'popularity'],\n",
       "      dtype='object')"
      ]
     },
     "execution_count": 60,
     "metadata": {},
     "output_type": "execute_result"
    }
   ],
   "source": [
    "cols = num_df.columns\n",
    "cols"
   ]
  },
  {
   "cell_type": "code",
   "execution_count": 61,
   "id": "008e8ebf",
   "metadata": {},
   "outputs": [],
   "source": [
    "num_df['year'] = 2017 - num_df['year']"
   ]
  },
  {
   "cell_type": "code",
   "execution_count": 62,
   "id": "aa0f0a1b",
   "metadata": {},
   "outputs": [
    {
     "data": {
      "text/html": [
       "<div>\n",
       "<style scoped>\n",
       "    .dataframe tbody tr th:only-of-type {\n",
       "        vertical-align: middle;\n",
       "    }\n",
       "\n",
       "    .dataframe tbody tr th {\n",
       "        vertical-align: top;\n",
       "    }\n",
       "\n",
       "    .dataframe thead th {\n",
       "        text-align: right;\n",
       "    }\n",
       "</style>\n",
       "<table border=\"1\" class=\"dataframe\">\n",
       "  <thead>\n",
       "    <tr style=\"text-align: right;\">\n",
       "      <th></th>\n",
       "      <th>year</th>\n",
       "      <th>engine_hp</th>\n",
       "      <th>engine_cylinders</th>\n",
       "      <th>number_of_doors</th>\n",
       "      <th>highway_mpg</th>\n",
       "      <th>city_mpg</th>\n",
       "      <th>popularity</th>\n",
       "    </tr>\n",
       "  </thead>\n",
       "  <tbody>\n",
       "    <tr>\n",
       "      <th>0</th>\n",
       "      <td>6</td>\n",
       "      <td>335.0</td>\n",
       "      <td>6.0</td>\n",
       "      <td>2.0</td>\n",
       "      <td>26</td>\n",
       "      <td>19</td>\n",
       "      <td>3916</td>\n",
       "    </tr>\n",
       "    <tr>\n",
       "      <th>1</th>\n",
       "      <td>6</td>\n",
       "      <td>300.0</td>\n",
       "      <td>6.0</td>\n",
       "      <td>2.0</td>\n",
       "      <td>28</td>\n",
       "      <td>19</td>\n",
       "      <td>3916</td>\n",
       "    </tr>\n",
       "    <tr>\n",
       "      <th>2</th>\n",
       "      <td>6</td>\n",
       "      <td>300.0</td>\n",
       "      <td>6.0</td>\n",
       "      <td>2.0</td>\n",
       "      <td>28</td>\n",
       "      <td>20</td>\n",
       "      <td>3916</td>\n",
       "    </tr>\n",
       "    <tr>\n",
       "      <th>3</th>\n",
       "      <td>6</td>\n",
       "      <td>230.0</td>\n",
       "      <td>6.0</td>\n",
       "      <td>2.0</td>\n",
       "      <td>28</td>\n",
       "      <td>18</td>\n",
       "      <td>3916</td>\n",
       "    </tr>\n",
       "    <tr>\n",
       "      <th>4</th>\n",
       "      <td>6</td>\n",
       "      <td>230.0</td>\n",
       "      <td>6.0</td>\n",
       "      <td>2.0</td>\n",
       "      <td>28</td>\n",
       "      <td>18</td>\n",
       "      <td>3916</td>\n",
       "    </tr>\n",
       "  </tbody>\n",
       "</table>\n",
       "</div>"
      ],
      "text/plain": [
       "   year  engine_hp  engine_cylinders  number_of_doors  highway_mpg  city_mpg  \\\n",
       "0     6      335.0               6.0              2.0           26        19   \n",
       "1     6      300.0               6.0              2.0           28        19   \n",
       "2     6      300.0               6.0              2.0           28        20   \n",
       "3     6      230.0               6.0              2.0           28        18   \n",
       "4     6      230.0               6.0              2.0           28        18   \n",
       "\n",
       "   popularity  \n",
       "0        3916  \n",
       "1        3916  \n",
       "2        3916  \n",
       "3        3916  \n",
       "4        3916  "
      ]
     },
     "execution_count": 62,
     "metadata": {},
     "output_type": "execute_result"
    }
   ],
   "source": [
    "num_df.head()"
   ]
  },
  {
   "cell_type": "code",
   "execution_count": 63,
   "id": "7f8e901d",
   "metadata": {},
   "outputs": [
    {
     "data": {
      "text/plain": [
       "year                 0\n",
       "engine_hp           69\n",
       "engine_cylinders    30\n",
       "number_of_doors      6\n",
       "highway_mpg          0\n",
       "city_mpg             0\n",
       "popularity           0\n",
       "dtype: int64"
      ]
     },
     "execution_count": 63,
     "metadata": {},
     "output_type": "execute_result"
    }
   ],
   "source": [
    "num_df.isnull().sum()"
   ]
  },
  {
   "cell_type": "code",
   "execution_count": 64,
   "id": "fc0a0116",
   "metadata": {},
   "outputs": [
    {
     "data": {
      "text/html": [
       "<div>\n",
       "<style scoped>\n",
       "    .dataframe tbody tr th:only-of-type {\n",
       "        vertical-align: middle;\n",
       "    }\n",
       "\n",
       "    .dataframe tbody tr th {\n",
       "        vertical-align: top;\n",
       "    }\n",
       "\n",
       "    .dataframe thead th {\n",
       "        text-align: right;\n",
       "    }\n",
       "</style>\n",
       "<table border=\"1\" class=\"dataframe\">\n",
       "  <thead>\n",
       "    <tr style=\"text-align: right;\">\n",
       "      <th></th>\n",
       "      <th>count</th>\n",
       "      <th>mean</th>\n",
       "      <th>std</th>\n",
       "      <th>min</th>\n",
       "      <th>25%</th>\n",
       "      <th>50%</th>\n",
       "      <th>75%</th>\n",
       "      <th>max</th>\n",
       "    </tr>\n",
       "  </thead>\n",
       "  <tbody>\n",
       "    <tr>\n",
       "      <th>year</th>\n",
       "      <td>11914.0</td>\n",
       "      <td>6.615662</td>\n",
       "      <td>7.579740</td>\n",
       "      <td>0.0</td>\n",
       "      <td>1.0</td>\n",
       "      <td>2.0</td>\n",
       "      <td>10.0</td>\n",
       "      <td>27.0</td>\n",
       "    </tr>\n",
       "    <tr>\n",
       "      <th>engine_hp</th>\n",
       "      <td>11845.0</td>\n",
       "      <td>249.386070</td>\n",
       "      <td>109.191870</td>\n",
       "      <td>55.0</td>\n",
       "      <td>170.0</td>\n",
       "      <td>227.0</td>\n",
       "      <td>300.0</td>\n",
       "      <td>1001.0</td>\n",
       "    </tr>\n",
       "    <tr>\n",
       "      <th>engine_cylinders</th>\n",
       "      <td>11884.0</td>\n",
       "      <td>5.628829</td>\n",
       "      <td>1.780559</td>\n",
       "      <td>0.0</td>\n",
       "      <td>4.0</td>\n",
       "      <td>6.0</td>\n",
       "      <td>6.0</td>\n",
       "      <td>16.0</td>\n",
       "    </tr>\n",
       "    <tr>\n",
       "      <th>number_of_doors</th>\n",
       "      <td>11908.0</td>\n",
       "      <td>3.436093</td>\n",
       "      <td>0.881315</td>\n",
       "      <td>2.0</td>\n",
       "      <td>2.0</td>\n",
       "      <td>4.0</td>\n",
       "      <td>4.0</td>\n",
       "      <td>4.0</td>\n",
       "    </tr>\n",
       "    <tr>\n",
       "      <th>highway_mpg</th>\n",
       "      <td>11914.0</td>\n",
       "      <td>26.637485</td>\n",
       "      <td>8.863001</td>\n",
       "      <td>12.0</td>\n",
       "      <td>22.0</td>\n",
       "      <td>26.0</td>\n",
       "      <td>30.0</td>\n",
       "      <td>354.0</td>\n",
       "    </tr>\n",
       "    <tr>\n",
       "      <th>city_mpg</th>\n",
       "      <td>11914.0</td>\n",
       "      <td>19.733255</td>\n",
       "      <td>8.987798</td>\n",
       "      <td>7.0</td>\n",
       "      <td>16.0</td>\n",
       "      <td>18.0</td>\n",
       "      <td>22.0</td>\n",
       "      <td>137.0</td>\n",
       "    </tr>\n",
       "    <tr>\n",
       "      <th>popularity</th>\n",
       "      <td>11914.0</td>\n",
       "      <td>1554.911197</td>\n",
       "      <td>1441.855347</td>\n",
       "      <td>2.0</td>\n",
       "      <td>549.0</td>\n",
       "      <td>1385.0</td>\n",
       "      <td>2009.0</td>\n",
       "      <td>5657.0</td>\n",
       "    </tr>\n",
       "  </tbody>\n",
       "</table>\n",
       "</div>"
      ],
      "text/plain": [
       "                    count         mean          std   min    25%     50%  \\\n",
       "year              11914.0     6.615662     7.579740   0.0    1.0     2.0   \n",
       "engine_hp         11845.0   249.386070   109.191870  55.0  170.0   227.0   \n",
       "engine_cylinders  11884.0     5.628829     1.780559   0.0    4.0     6.0   \n",
       "number_of_doors   11908.0     3.436093     0.881315   2.0    2.0     4.0   \n",
       "highway_mpg       11914.0    26.637485     8.863001  12.0   22.0    26.0   \n",
       "city_mpg          11914.0    19.733255     8.987798   7.0   16.0    18.0   \n",
       "popularity        11914.0  1554.911197  1441.855347   2.0  549.0  1385.0   \n",
       "\n",
       "                     75%     max  \n",
       "year                10.0    27.0  \n",
       "engine_hp          300.0  1001.0  \n",
       "engine_cylinders     6.0    16.0  \n",
       "number_of_doors      4.0     4.0  \n",
       "highway_mpg         30.0   354.0  \n",
       "city_mpg            22.0   137.0  \n",
       "popularity        2009.0  5657.0  "
      ]
     },
     "execution_count": 64,
     "metadata": {},
     "output_type": "execute_result"
    }
   ],
   "source": [
    "num_df.describe().T"
   ]
  },
  {
   "cell_type": "code",
   "execution_count": 65,
   "id": "6cd6a397",
   "metadata": {},
   "outputs": [],
   "source": [
    "num_df.fillna(0, inplace=True)"
   ]
  },
  {
   "cell_type": "code",
   "execution_count": 66,
   "id": "2038e6e4",
   "metadata": {},
   "outputs": [
    {
     "data": {
      "text/html": [
       "<div>\n",
       "<style scoped>\n",
       "    .dataframe tbody tr th:only-of-type {\n",
       "        vertical-align: middle;\n",
       "    }\n",
       "\n",
       "    .dataframe tbody tr th {\n",
       "        vertical-align: top;\n",
       "    }\n",
       "\n",
       "    .dataframe thead th {\n",
       "        text-align: right;\n",
       "    }\n",
       "</style>\n",
       "<table border=\"1\" class=\"dataframe\">\n",
       "  <thead>\n",
       "    <tr style=\"text-align: right;\">\n",
       "      <th></th>\n",
       "      <th>count</th>\n",
       "      <th>mean</th>\n",
       "      <th>std</th>\n",
       "      <th>min</th>\n",
       "      <th>25%</th>\n",
       "      <th>50%</th>\n",
       "      <th>75%</th>\n",
       "      <th>max</th>\n",
       "    </tr>\n",
       "  </thead>\n",
       "  <tbody>\n",
       "    <tr>\n",
       "      <th>year</th>\n",
       "      <td>11914.0</td>\n",
       "      <td>6.615662</td>\n",
       "      <td>7.579740</td>\n",
       "      <td>0.0</td>\n",
       "      <td>1.0</td>\n",
       "      <td>2.0</td>\n",
       "      <td>10.0</td>\n",
       "      <td>27.0</td>\n",
       "    </tr>\n",
       "    <tr>\n",
       "      <th>engine_hp</th>\n",
       "      <td>11914.0</td>\n",
       "      <td>247.941749</td>\n",
       "      <td>110.507669</td>\n",
       "      <td>0.0</td>\n",
       "      <td>170.0</td>\n",
       "      <td>225.0</td>\n",
       "      <td>300.0</td>\n",
       "      <td>1001.0</td>\n",
       "    </tr>\n",
       "    <tr>\n",
       "      <th>engine_cylinders</th>\n",
       "      <td>11914.0</td>\n",
       "      <td>5.614655</td>\n",
       "      <td>1.800554</td>\n",
       "      <td>0.0</td>\n",
       "      <td>4.0</td>\n",
       "      <td>6.0</td>\n",
       "      <td>6.0</td>\n",
       "      <td>16.0</td>\n",
       "    </tr>\n",
       "    <tr>\n",
       "      <th>number_of_doors</th>\n",
       "      <td>11914.0</td>\n",
       "      <td>3.434363</td>\n",
       "      <td>0.884460</td>\n",
       "      <td>0.0</td>\n",
       "      <td>2.0</td>\n",
       "      <td>4.0</td>\n",
       "      <td>4.0</td>\n",
       "      <td>4.0</td>\n",
       "    </tr>\n",
       "    <tr>\n",
       "      <th>highway_mpg</th>\n",
       "      <td>11914.0</td>\n",
       "      <td>26.637485</td>\n",
       "      <td>8.863001</td>\n",
       "      <td>12.0</td>\n",
       "      <td>22.0</td>\n",
       "      <td>26.0</td>\n",
       "      <td>30.0</td>\n",
       "      <td>354.0</td>\n",
       "    </tr>\n",
       "    <tr>\n",
       "      <th>city_mpg</th>\n",
       "      <td>11914.0</td>\n",
       "      <td>19.733255</td>\n",
       "      <td>8.987798</td>\n",
       "      <td>7.0</td>\n",
       "      <td>16.0</td>\n",
       "      <td>18.0</td>\n",
       "      <td>22.0</td>\n",
       "      <td>137.0</td>\n",
       "    </tr>\n",
       "    <tr>\n",
       "      <th>popularity</th>\n",
       "      <td>11914.0</td>\n",
       "      <td>1554.911197</td>\n",
       "      <td>1441.855347</td>\n",
       "      <td>2.0</td>\n",
       "      <td>549.0</td>\n",
       "      <td>1385.0</td>\n",
       "      <td>2009.0</td>\n",
       "      <td>5657.0</td>\n",
       "    </tr>\n",
       "  </tbody>\n",
       "</table>\n",
       "</div>"
      ],
      "text/plain": [
       "                    count         mean          std   min    25%     50%  \\\n",
       "year              11914.0     6.615662     7.579740   0.0    1.0     2.0   \n",
       "engine_hp         11914.0   247.941749   110.507669   0.0  170.0   225.0   \n",
       "engine_cylinders  11914.0     5.614655     1.800554   0.0    4.0     6.0   \n",
       "number_of_doors   11914.0     3.434363     0.884460   0.0    2.0     4.0   \n",
       "highway_mpg       11914.0    26.637485     8.863001  12.0   22.0    26.0   \n",
       "city_mpg          11914.0    19.733255     8.987798   7.0   16.0    18.0   \n",
       "popularity        11914.0  1554.911197  1441.855347   2.0  549.0  1385.0   \n",
       "\n",
       "                     75%     max  \n",
       "year                10.0    27.0  \n",
       "engine_hp          300.0  1001.0  \n",
       "engine_cylinders     6.0    16.0  \n",
       "number_of_doors      4.0     4.0  \n",
       "highway_mpg         30.0   354.0  \n",
       "city_mpg            22.0   137.0  \n",
       "popularity        2009.0  5657.0  "
      ]
     },
     "execution_count": 66,
     "metadata": {},
     "output_type": "execute_result"
    }
   ],
   "source": [
    "num_df.describe().T"
   ]
  },
  {
   "cell_type": "code",
   "execution_count": 67,
   "id": "fbad2b5b",
   "metadata": {},
   "outputs": [],
   "source": [
    "from sklearn.preprocessing import MinMaxScaler\n",
    "\n",
    "scaler = MinMaxScaler()\n",
    "num_df = scaler.fit_transform(num_df)"
   ]
  },
  {
   "cell_type": "code",
   "execution_count": 68,
   "id": "28014820",
   "metadata": {},
   "outputs": [],
   "source": [
    "num_df = pd.DataFrame(num_df, columns=cols)"
   ]
  },
  {
   "cell_type": "code",
   "execution_count": 71,
   "id": "bdf4b6e7",
   "metadata": {},
   "outputs": [
    {
     "data": {
      "text/html": [
       "<div>\n",
       "<style scoped>\n",
       "    .dataframe tbody tr th:only-of-type {\n",
       "        vertical-align: middle;\n",
       "    }\n",
       "\n",
       "    .dataframe tbody tr th {\n",
       "        vertical-align: top;\n",
       "    }\n",
       "\n",
       "    .dataframe thead th {\n",
       "        text-align: right;\n",
       "    }\n",
       "</style>\n",
       "<table border=\"1\" class=\"dataframe\">\n",
       "  <thead>\n",
       "    <tr style=\"text-align: right;\">\n",
       "      <th></th>\n",
       "      <th>count</th>\n",
       "      <th>mean</th>\n",
       "      <th>std</th>\n",
       "      <th>min</th>\n",
       "      <th>25%</th>\n",
       "      <th>50%</th>\n",
       "      <th>75%</th>\n",
       "      <th>max</th>\n",
       "    </tr>\n",
       "  </thead>\n",
       "  <tbody>\n",
       "    <tr>\n",
       "      <th>year</th>\n",
       "      <td>11914.0</td>\n",
       "      <td>0.245025</td>\n",
       "      <td>0.280731</td>\n",
       "      <td>0.0</td>\n",
       "      <td>0.037037</td>\n",
       "      <td>0.074074</td>\n",
       "      <td>0.370370</td>\n",
       "      <td>1.0</td>\n",
       "    </tr>\n",
       "    <tr>\n",
       "      <th>engine_hp</th>\n",
       "      <td>11914.0</td>\n",
       "      <td>0.247694</td>\n",
       "      <td>0.110397</td>\n",
       "      <td>0.0</td>\n",
       "      <td>0.169830</td>\n",
       "      <td>0.224775</td>\n",
       "      <td>0.299700</td>\n",
       "      <td>1.0</td>\n",
       "    </tr>\n",
       "    <tr>\n",
       "      <th>engine_cylinders</th>\n",
       "      <td>11914.0</td>\n",
       "      <td>0.350916</td>\n",
       "      <td>0.112535</td>\n",
       "      <td>0.0</td>\n",
       "      <td>0.250000</td>\n",
       "      <td>0.375000</td>\n",
       "      <td>0.375000</td>\n",
       "      <td>1.0</td>\n",
       "    </tr>\n",
       "    <tr>\n",
       "      <th>number_of_doors</th>\n",
       "      <td>11914.0</td>\n",
       "      <td>0.858591</td>\n",
       "      <td>0.221115</td>\n",
       "      <td>0.0</td>\n",
       "      <td>0.500000</td>\n",
       "      <td>1.000000</td>\n",
       "      <td>1.000000</td>\n",
       "      <td>1.0</td>\n",
       "    </tr>\n",
       "    <tr>\n",
       "      <th>highway_mpg</th>\n",
       "      <td>11914.0</td>\n",
       "      <td>0.042800</td>\n",
       "      <td>0.025915</td>\n",
       "      <td>0.0</td>\n",
       "      <td>0.029240</td>\n",
       "      <td>0.040936</td>\n",
       "      <td>0.052632</td>\n",
       "      <td>1.0</td>\n",
       "    </tr>\n",
       "    <tr>\n",
       "      <th>city_mpg</th>\n",
       "      <td>11914.0</td>\n",
       "      <td>0.097948</td>\n",
       "      <td>0.069137</td>\n",
       "      <td>0.0</td>\n",
       "      <td>0.069231</td>\n",
       "      <td>0.084615</td>\n",
       "      <td>0.115385</td>\n",
       "      <td>1.0</td>\n",
       "    </tr>\n",
       "    <tr>\n",
       "      <th>popularity</th>\n",
       "      <td>11914.0</td>\n",
       "      <td>0.274609</td>\n",
       "      <td>0.254970</td>\n",
       "      <td>0.0</td>\n",
       "      <td>0.096729</td>\n",
       "      <td>0.244562</td>\n",
       "      <td>0.354907</td>\n",
       "      <td>1.0</td>\n",
       "    </tr>\n",
       "  </tbody>\n",
       "</table>\n",
       "</div>"
      ],
      "text/plain": [
       "                    count      mean       std  min       25%       50%  \\\n",
       "year              11914.0  0.245025  0.280731  0.0  0.037037  0.074074   \n",
       "engine_hp         11914.0  0.247694  0.110397  0.0  0.169830  0.224775   \n",
       "engine_cylinders  11914.0  0.350916  0.112535  0.0  0.250000  0.375000   \n",
       "number_of_doors   11914.0  0.858591  0.221115  0.0  0.500000  1.000000   \n",
       "highway_mpg       11914.0  0.042800  0.025915  0.0  0.029240  0.040936   \n",
       "city_mpg          11914.0  0.097948  0.069137  0.0  0.069231  0.084615   \n",
       "popularity        11914.0  0.274609  0.254970  0.0  0.096729  0.244562   \n",
       "\n",
       "                       75%  max  \n",
       "year              0.370370  1.0  \n",
       "engine_hp         0.299700  1.0  \n",
       "engine_cylinders  0.375000  1.0  \n",
       "number_of_doors   1.000000  1.0  \n",
       "highway_mpg       0.052632  1.0  \n",
       "city_mpg          0.115385  1.0  \n",
       "popularity        0.354907  1.0  "
      ]
     },
     "execution_count": 71,
     "metadata": {},
     "output_type": "execute_result"
    }
   ],
   "source": [
    "num_df.describe().T"
   ]
  },
  {
   "cell_type": "code",
   "execution_count": 88,
   "id": "be18ff17",
   "metadata": {},
   "outputs": [],
   "source": [
    "X = num_df\n",
    "y = np.log1p(car_df['msrp'].values)"
   ]
  },
  {
   "cell_type": "code",
   "execution_count": 89,
   "id": "adbd9c93",
   "metadata": {},
   "outputs": [
    {
     "data": {
      "text/html": [
       "<div>\n",
       "<style scoped>\n",
       "    .dataframe tbody tr th:only-of-type {\n",
       "        vertical-align: middle;\n",
       "    }\n",
       "\n",
       "    .dataframe tbody tr th {\n",
       "        vertical-align: top;\n",
       "    }\n",
       "\n",
       "    .dataframe thead th {\n",
       "        text-align: right;\n",
       "    }\n",
       "</style>\n",
       "<table border=\"1\" class=\"dataframe\">\n",
       "  <thead>\n",
       "    <tr style=\"text-align: right;\">\n",
       "      <th></th>\n",
       "      <th>year</th>\n",
       "      <th>engine_hp</th>\n",
       "      <th>engine_cylinders</th>\n",
       "      <th>number_of_doors</th>\n",
       "      <th>highway_mpg</th>\n",
       "      <th>city_mpg</th>\n",
       "      <th>popularity</th>\n",
       "    </tr>\n",
       "  </thead>\n",
       "  <tbody>\n",
       "    <tr>\n",
       "      <th>0</th>\n",
       "      <td>0.222222</td>\n",
       "      <td>0.334665</td>\n",
       "      <td>0.375</td>\n",
       "      <td>0.5</td>\n",
       "      <td>0.040936</td>\n",
       "      <td>0.092308</td>\n",
       "      <td>0.692131</td>\n",
       "    </tr>\n",
       "    <tr>\n",
       "      <th>1</th>\n",
       "      <td>0.222222</td>\n",
       "      <td>0.299700</td>\n",
       "      <td>0.375</td>\n",
       "      <td>0.5</td>\n",
       "      <td>0.046784</td>\n",
       "      <td>0.092308</td>\n",
       "      <td>0.692131</td>\n",
       "    </tr>\n",
       "    <tr>\n",
       "      <th>2</th>\n",
       "      <td>0.222222</td>\n",
       "      <td>0.299700</td>\n",
       "      <td>0.375</td>\n",
       "      <td>0.5</td>\n",
       "      <td>0.046784</td>\n",
       "      <td>0.100000</td>\n",
       "      <td>0.692131</td>\n",
       "    </tr>\n",
       "    <tr>\n",
       "      <th>3</th>\n",
       "      <td>0.222222</td>\n",
       "      <td>0.229770</td>\n",
       "      <td>0.375</td>\n",
       "      <td>0.5</td>\n",
       "      <td>0.046784</td>\n",
       "      <td>0.084615</td>\n",
       "      <td>0.692131</td>\n",
       "    </tr>\n",
       "    <tr>\n",
       "      <th>4</th>\n",
       "      <td>0.222222</td>\n",
       "      <td>0.229770</td>\n",
       "      <td>0.375</td>\n",
       "      <td>0.5</td>\n",
       "      <td>0.046784</td>\n",
       "      <td>0.084615</td>\n",
       "      <td>0.692131</td>\n",
       "    </tr>\n",
       "  </tbody>\n",
       "</table>\n",
       "</div>"
      ],
      "text/plain": [
       "       year  engine_hp  engine_cylinders  number_of_doors  highway_mpg  \\\n",
       "0  0.222222   0.334665             0.375              0.5     0.040936   \n",
       "1  0.222222   0.299700             0.375              0.5     0.046784   \n",
       "2  0.222222   0.299700             0.375              0.5     0.046784   \n",
       "3  0.222222   0.229770             0.375              0.5     0.046784   \n",
       "4  0.222222   0.229770             0.375              0.5     0.046784   \n",
       "\n",
       "   city_mpg  popularity  \n",
       "0  0.092308    0.692131  \n",
       "1  0.092308    0.692131  \n",
       "2  0.100000    0.692131  \n",
       "3  0.084615    0.692131  \n",
       "4  0.084615    0.692131  "
      ]
     },
     "execution_count": 89,
     "metadata": {},
     "output_type": "execute_result"
    }
   ],
   "source": [
    "X.head()"
   ]
  },
  {
   "cell_type": "code",
   "execution_count": 90,
   "id": "47f320dc",
   "metadata": {},
   "outputs": [
    {
     "data": {
      "text/plain": [
       "array([10.73934884, 10.61277871, 10.50097699, 10.29048314, 10.44874359])"
      ]
     },
     "execution_count": 90,
     "metadata": {},
     "output_type": "execute_result"
    }
   ],
   "source": [
    "y[0:5]"
   ]
  },
  {
   "cell_type": "code",
   "execution_count": 91,
   "id": "92412ede",
   "metadata": {},
   "outputs": [],
   "source": [
    "from sklearn.model_selection import train_test_split #split train and test dataset\n",
    "X_train, X_test, y_train, y_test = train_test_split(X, y, test_size=0.2, random_state=42)"
   ]
  },
  {
   "cell_type": "code",
   "execution_count": 92,
   "id": "c7b33132",
   "metadata": {},
   "outputs": [
    {
     "name": "stdout",
     "output_type": "stream",
     "text": [
      "Shape of X_train: (9531, 7)\n",
      "Shape of y_train: (9531,)\n",
      "-------------------------\n",
      "Shape of X_test: (2383, 7)\n",
      "Shape of y_test: (2383,)\n"
     ]
    }
   ],
   "source": [
    "print(f\"Shape of X_train: {X_train.shape}\")\n",
    "print(f\"Shape of y_train: {y_train.shape}\")\n",
    "print('-'*25)\n",
    "print(f\"Shape of X_test: {X_test.shape}\")\n",
    "print(f\"Shape of y_test: {y_test.shape}\")"
   ]
  },
  {
   "cell_type": "code",
   "execution_count": 93,
   "id": "fc7f2f97",
   "metadata": {},
   "outputs": [],
   "source": [
    "import numpy as np\n",
    "import seaborn as sns\n",
    "import matplotlib.pyplot as plt\n",
    "from sklearn.metrics import mean_squared_error\n",
    "from sklearn.model_selection import cross_val_score\n",
    "from sklearn.linear_model import LinearRegression\n",
    "\n",
    "lin_reg = LinearRegression()\n",
    "lin_reg.fit(X_train, y_train)\n",
    "y_pred = lin_reg.predict(X_train)"
   ]
  },
  {
   "cell_type": "code",
   "execution_count": 94,
   "id": "2b7dfd84",
   "metadata": {},
   "outputs": [
    {
     "data": {
      "image/png": "[encoded data removed]",
      "text/plain": [
       "<Figure size 360x288 with 1 Axes>"
      ]
     },
     "metadata": {
      "needs_background": "light"
     },
     "output_type": "display_data"
    }
   ],
   "source": [
    "#let see the how good was the prediction\n",
    "plt.figure(figsize=(5,4))\n",
    "\n",
    "sns.histplot(y_train, label='target', color='black',bins=30)\n",
    "sns.histplot(y_pred, label='prediction',color='red', bins=30)\n",
    "plt.legend()\n",
    "plt.xlabel('log(1+price)')\n",
    "plt.ylabel('Count')\n",
    "plt.title('Predictions vs Actual Distribution')\n",
    "\n",
    "plt.show();"
   ]
  },
  {
   "cell_type": "code",
   "execution_count": 95,
   "id": "ffd16c8f",
   "metadata": {},
   "outputs": [
    {
     "data": {
      "text/plain": [
       "0.5164583338020942"
      ]
     },
     "execution_count": 95,
     "metadata": {},
     "output_type": "execute_result"
    }
   ],
   "source": [
    "#RMSE\n",
    "lin_mse = mean_squared_error(y_train, y_pred)\n",
    "lin_rmse = np.sqrt(lin_mse)\n",
    "lin_rmse"
   ]
  },
  {
   "cell_type": "code",
   "execution_count": 96,
   "id": "73340c30",
   "metadata": {},
   "outputs": [
    {
     "data": {
      "text/plain": [
       "0.5180420905424017"
      ]
     },
     "execution_count": 96,
     "metadata": {},
     "output_type": "execute_result"
    }
   ],
   "source": [
    "#CV\n",
    "lin_reg_cv_scores = cross_val_score(lin_reg, X_train, y_train, scoring='neg_mean_squared_error', cv = 10)\n",
    "lin_reg_rmse_scores = np.sqrt(-lin_reg_cv_scores)\n",
    "lin_reg_rmse_scores.mean()"
   ]
  },
  {
   "cell_type": "code",
   "execution_count": 97,
   "id": "7f4cbc0b",
   "metadata": {},
   "outputs": [
    {
     "data": {
      "text/plain": [
       "0.06908834901196552"
      ]
     },
     "execution_count": 97,
     "metadata": {},
     "output_type": "execute_result"
    }
   ],
   "source": [
    "from sklearn.tree import DecisionTreeRegressor\n",
    "\n",
    "tree_reg = DecisionTreeRegressor()\n",
    "tree_reg.fit(X_train, y_train)\n",
    "price_predictions = tree_reg.predict(X_train)\n",
    "tree_mse = mean_squared_error(y_train, price_predictions)\n",
    "tree_rmse = np.sqrt(tree_mse)\n",
    "tree_rmse"
   ]
  },
  {
   "cell_type": "code",
   "execution_count": 98,
   "id": "c925ab28",
   "metadata": {},
   "outputs": [
    {
     "data": {
      "text/plain": [
       "0.1422709854959153"
      ]
     },
     "execution_count": 98,
     "metadata": {},
     "output_type": "execute_result"
    }
   ],
   "source": [
    "tree_reg_cv_scores = cross_val_score(tree_reg, X_train, y_train, scoring='neg_mean_squared_error', cv = 10)\n",
    "tree_reg_rmse_scores = np.sqrt(-tree_reg_cv_scores)\n",
    "tree_reg_rmse_scores.mean()"
   ]
  },
  {
   "cell_type": "code",
   "execution_count": 99,
   "id": "d0b1bb05",
   "metadata": {},
   "outputs": [
    {
     "data": {
      "text/plain": [
       "0.06908834901196552"
      ]
     },
     "execution_count": 99,
     "metadata": {},
     "output_type": "execute_result"
    }
   ],
   "source": [
    "from sklearn.ensemble import RandomForestRegressor\n",
    "\n",
    "forest_reg = RandomForestRegressor()\n",
    "forest_reg.fit(X_train, y_train)\n",
    "price_predictions = forest_reg.predict(X_train)\n",
    "forest_mse = mean_squared_error(y_train, price_predictions)\n",
    "forest_rmse = np.sqrt(tree_mse)\n",
    "forest_rmse"
   ]
  },
  {
   "cell_type": "code",
   "execution_count": 100,
   "id": "ecc53a2f",
   "metadata": {},
   "outputs": [
    {
     "data": {
      "text/plain": [
       "0.12235134999527256"
      ]
     },
     "execution_count": 100,
     "metadata": {},
     "output_type": "execute_result"
    }
   ],
   "source": [
    "forest_reg_cv_scores = cross_val_score(forest_reg, X_train, y_train, scoring='neg_mean_squared_error', cv = 10)\n",
    "forest_reg_rmse_scores = np.sqrt(-forest_reg_cv_scores)\n",
    "forest_reg_rmse_scores.mean()"
   ]
  },
  {
   "cell_type": "code",
   "execution_count": 103,
   "id": "cfa0bceb",
   "metadata": {},
   "outputs": [
    {
     "data": {
      "text/plain": [
       "GridSearchCV(cv=10, estimator=RandomForestRegressor(),\n",
       "             param_grid=[{'max_features': [2, 4, 6, 8],\n",
       "                          'n_estimators': [3, 10, 30]},\n",
       "                         {'bootstrap': [False], 'max_features': [2, 3, 4],\n",
       "                          'n_estimators': [3, 10]}],\n",
       "             return_train_score=True, scoring='neg_mean_squared_error')"
      ]
     },
     "execution_count": 103,
     "metadata": {},
     "output_type": "execute_result"
    }
   ],
   "source": [
    "#hyper tuning of RF\n",
    "from sklearn.model_selection import GridSearchCV\n",
    "\n",
    "param_grid = [\n",
    "    {'n_estimators': [3, 10, 30], 'max_features': [2, 4, 6, 8]},\n",
    "    {'bootstrap': [False], 'n_estimators': [3, 10], 'max_features': [2, 3, 4]},\n",
    "  ]\n",
    "\n",
    "forest_reg = RandomForestRegressor()\n",
    "\n",
    "grid_search = GridSearchCV(forest_reg, param_grid,\n",
    "                           scoring='neg_mean_squared_error',\n",
    "                           return_train_score=True,\n",
    "                           cv=10,\n",
    "                          )\n",
    "\n",
    "grid_search.fit(X_train, y_train)"
   ]
  },
  {
   "cell_type": "code",
   "execution_count": 104,
   "id": "79a8b699",
   "metadata": {},
   "outputs": [
    {
     "data": {
      "text/plain": [
       "array([0.7349515 , 0.19459454, 0.03513006, 0.00279718, 0.00889349,\n",
       "       0.01014302, 0.01349021])"
      ]
     },
     "execution_count": 104,
     "metadata": {},
     "output_type": "execute_result"
    }
   ],
   "source": [
    "feature_importances = grid_search.best_estimator_.feature_importances_\n",
    "feature_importances"
   ]
  },
  {
   "cell_type": "code",
   "execution_count": 106,
   "id": "87e6b796",
   "metadata": {},
   "outputs": [
    {
     "data": {
      "text/plain": [
       "0.11838455149087972"
      ]
     },
     "execution_count": 106,
     "metadata": {},
     "output_type": "execute_result"
    }
   ],
   "source": [
    "final_model = grid_search.best_estimator_\n",
    "final_predictions = final_model.predict(X_test)\n",
    "final_mse = mean_squared_error(y_test, final_predictions)\n",
    "final_rmse = np.sqrt(final_mse)\n",
    "final_rmse"
   ]
  },
  {
   "cell_type": "markdown",
   "id": "3a97562d",
   "metadata": {},
   "source": [
    "# Final Preparation"
   ]
  },
  {
   "cell_type": "code",
   "execution_count": 122,
   "id": "6e94a605",
   "metadata": {},
   "outputs": [],
   "source": [
    "def cat_preparing_X(df):\n",
    "    \"\"\"\n",
    "    Trying some more simple feature engineering.\n",
    "    \"\"\"\n",
    "    df = df.copy()\n",
    "    features = []\n",
    "    \n",
    "    for index in ['chevrolet', 'ford', 'volkswagen', 'toyota']:\n",
    "        feature = 'is_make_%s' % index \n",
    "        df[feature] = (df['make'] == index).astype(int)\n",
    "        features.append(feature)\n",
    "        \n",
    "    for index in ['regular_unleaded', 'premium_unleaded_(required)',\n",
    "                  'premium_unleaded_(recommended)', 'flex-fuel_(unleaded/e85)']:\n",
    "        feature = 'is_type_%s' % index\n",
    "        df[feature] = (df['engine_fuel_type'] == index).astype(int)\n",
    "        features.append(feature)\n",
    "    \n",
    "    for index in ['automatic', 'manual', 'automated_manual', 'direct_drive']:\n",
    "        feature = 'is_tranmission_%s' % index\n",
    "        df[feature] = (df['transmission_type'] == index).astype(int)\n",
    "        features.append(feature)\n",
    "    \n",
    "    for index in ['crossover', 'flex_fuel', 'luxury', 'luxury,performance']:\n",
    "        feature = 'is_market_category_%s' % index\n",
    "        df[feature] = (df['market_category'] == index).astype(int)\n",
    "        features.append(feature)\n",
    "\n",
    "    df = df[features]\n",
    "    df = df.fillna(0)\n",
    "    return df"
   ]
  },
  {
   "cell_type": "code",
   "execution_count": 123,
   "id": "62f8354a",
   "metadata": {},
   "outputs": [
    {
     "data": {
      "text/plain": [
       "make                    0\n",
       "model                   0\n",
       "engine_fuel_type        3\n",
       "transmission_type       0\n",
       "driven_wheels           0\n",
       "market_category      3742\n",
       "vehicle_size            0\n",
       "vehicle_style           0\n",
       "dtype: int64"
      ]
     },
     "execution_count": 123,
     "metadata": {},
     "output_type": "execute_result"
    }
   ],
   "source": [
    "cat_df.isnull().sum()"
   ]
  },
  {
   "cell_type": "code",
   "execution_count": 124,
   "id": "e4ec06b3",
   "metadata": {},
   "outputs": [],
   "source": [
    "cat_df = cat_preparing_X(cat_df)"
   ]
  },
  {
   "cell_type": "code",
   "execution_count": 125,
   "id": "2c72ea4b",
   "metadata": {},
   "outputs": [
    {
     "name": "stdout",
     "output_type": "stream",
     "text": [
      "<class 'pandas.core.frame.DataFrame'>\n",
      "RangeIndex: 11914 entries, 0 to 11913\n",
      "Data columns (total 16 columns):\n",
      " #   Column                                  Non-Null Count  Dtype\n",
      "---  ------                                  --------------  -----\n",
      " 0   is_make_chevrolet                       11914 non-null  int32\n",
      " 1   is_make_ford                            11914 non-null  int32\n",
      " 2   is_make_volkswagen                      11914 non-null  int32\n",
      " 3   is_make_toyota                          11914 non-null  int32\n",
      " 4   is_type_regular_unleaded                11914 non-null  int32\n",
      " 5   is_type_premium_unleaded_(required)     11914 non-null  int32\n",
      " 6   is_type_premium_unleaded_(recommended)  11914 non-null  int32\n",
      " 7   is_type_flex-fuel_(unleaded/e85)        11914 non-null  int32\n",
      " 8   is_tranmission_automatic                11914 non-null  int32\n",
      " 9   is_tranmission_manual                   11914 non-null  int32\n",
      " 10  is_tranmission_automated_manual         11914 non-null  int32\n",
      " 11  is_tranmission_direct_drive             11914 non-null  int32\n",
      " 12  is_market_category_crossover            11914 non-null  int32\n",
      " 13  is_market_category_flex_fuel            11914 non-null  int32\n",
      " 14  is_market_category_luxury               11914 non-null  int32\n",
      " 15  is_market_category_luxury,performance   11914 non-null  int32\n",
      "dtypes: int32(16)\n",
      "memory usage: 744.8 KB\n"
     ]
    }
   ],
   "source": [
    "cat_df.info()"
   ]
  },
  {
   "cell_type": "code",
   "execution_count": 127,
   "id": "ec7d3ec3",
   "metadata": {},
   "outputs": [
    {
     "data": {
      "text/html": [
       "<div>\n",
       "<style scoped>\n",
       "    .dataframe tbody tr th:only-of-type {\n",
       "        vertical-align: middle;\n",
       "    }\n",
       "\n",
       "    .dataframe tbody tr th {\n",
       "        vertical-align: top;\n",
       "    }\n",
       "\n",
       "    .dataframe thead th {\n",
       "        text-align: right;\n",
       "    }\n",
       "</style>\n",
       "<table border=\"1\" class=\"dataframe\">\n",
       "  <thead>\n",
       "    <tr style=\"text-align: right;\">\n",
       "      <th></th>\n",
       "      <th>year</th>\n",
       "      <th>engine_hp</th>\n",
       "      <th>engine_cylinders</th>\n",
       "      <th>number_of_doors</th>\n",
       "      <th>highway_mpg</th>\n",
       "      <th>city_mpg</th>\n",
       "      <th>popularity</th>\n",
       "    </tr>\n",
       "  </thead>\n",
       "  <tbody>\n",
       "    <tr>\n",
       "      <th>0</th>\n",
       "      <td>6</td>\n",
       "      <td>335.0</td>\n",
       "      <td>6.0</td>\n",
       "      <td>2.0</td>\n",
       "      <td>26</td>\n",
       "      <td>19</td>\n",
       "      <td>3916</td>\n",
       "    </tr>\n",
       "    <tr>\n",
       "      <th>1</th>\n",
       "      <td>6</td>\n",
       "      <td>300.0</td>\n",
       "      <td>6.0</td>\n",
       "      <td>2.0</td>\n",
       "      <td>28</td>\n",
       "      <td>19</td>\n",
       "      <td>3916</td>\n",
       "    </tr>\n",
       "    <tr>\n",
       "      <th>2</th>\n",
       "      <td>6</td>\n",
       "      <td>300.0</td>\n",
       "      <td>6.0</td>\n",
       "      <td>2.0</td>\n",
       "      <td>28</td>\n",
       "      <td>20</td>\n",
       "      <td>3916</td>\n",
       "    </tr>\n",
       "    <tr>\n",
       "      <th>3</th>\n",
       "      <td>6</td>\n",
       "      <td>230.0</td>\n",
       "      <td>6.0</td>\n",
       "      <td>2.0</td>\n",
       "      <td>28</td>\n",
       "      <td>18</td>\n",
       "      <td>3916</td>\n",
       "    </tr>\n",
       "    <tr>\n",
       "      <th>4</th>\n",
       "      <td>6</td>\n",
       "      <td>230.0</td>\n",
       "      <td>6.0</td>\n",
       "      <td>2.0</td>\n",
       "      <td>28</td>\n",
       "      <td>18</td>\n",
       "      <td>3916</td>\n",
       "    </tr>\n",
       "  </tbody>\n",
       "</table>\n",
       "</div>"
      ],
      "text/plain": [
       "   year  engine_hp  engine_cylinders  number_of_doors  highway_mpg  city_mpg  \\\n",
       "0     6      335.0               6.0              2.0           26        19   \n",
       "1     6      300.0               6.0              2.0           28        19   \n",
       "2     6      300.0               6.0              2.0           28        20   \n",
       "3     6      230.0               6.0              2.0           28        18   \n",
       "4     6      230.0               6.0              2.0           28        18   \n",
       "\n",
       "   popularity  \n",
       "0        3916  \n",
       "1        3916  \n",
       "2        3916  \n",
       "3        3916  \n",
       "4        3916  "
      ]
     },
     "execution_count": 127,
     "metadata": {},
     "output_type": "execute_result"
    }
   ],
   "source": [
    "numerics = ['int64', 'float64']\n",
    "num_df = car_df.select_dtypes(include=numerics)\n",
    "num_df = num_df.drop(['msrp'], axis=1)\n",
    "cols = num_df.columns\n",
    "num_df['year'] = 2017 - num_df['year']\n",
    "num_df.fillna(0, inplace=True)\n",
    "num_df.head()"
   ]
  },
  {
   "cell_type": "code",
   "execution_count": 128,
   "id": "7b20625b",
   "metadata": {},
   "outputs": [
    {
     "name": "stdout",
     "output_type": "stream",
     "text": [
      "<class 'pandas.core.frame.DataFrame'>\n",
      "RangeIndex: 11914 entries, 0 to 11913\n",
      "Data columns (total 7 columns):\n",
      " #   Column            Non-Null Count  Dtype  \n",
      "---  ------            --------------  -----  \n",
      " 0   year              11914 non-null  int64  \n",
      " 1   engine_hp         11914 non-null  float64\n",
      " 2   engine_cylinders  11914 non-null  float64\n",
      " 3   number_of_doors   11914 non-null  float64\n",
      " 4   highway_mpg       11914 non-null  int64  \n",
      " 5   city_mpg          11914 non-null  int64  \n",
      " 6   popularity        11914 non-null  int64  \n",
      "dtypes: float64(3), int64(4)\n",
      "memory usage: 651.7 KB\n"
     ]
    }
   ],
   "source": [
    "num_df.info()"
   ]
  },
  {
   "cell_type": "code",
   "execution_count": 130,
   "id": "c4031292",
   "metadata": {},
   "outputs": [
    {
     "data": {
      "text/html": [
       "<div>\n",
       "<style scoped>\n",
       "    .dataframe tbody tr th:only-of-type {\n",
       "        vertical-align: middle;\n",
       "    }\n",
       "\n",
       "    .dataframe tbody tr th {\n",
       "        vertical-align: top;\n",
       "    }\n",
       "\n",
       "    .dataframe thead th {\n",
       "        text-align: right;\n",
       "    }\n",
       "</style>\n",
       "<table border=\"1\" class=\"dataframe\">\n",
       "  <thead>\n",
       "    <tr style=\"text-align: right;\">\n",
       "      <th></th>\n",
       "      <th>count</th>\n",
       "      <th>mean</th>\n",
       "      <th>std</th>\n",
       "      <th>min</th>\n",
       "      <th>25%</th>\n",
       "      <th>50%</th>\n",
       "      <th>75%</th>\n",
       "      <th>max</th>\n",
       "    </tr>\n",
       "  </thead>\n",
       "  <tbody>\n",
       "    <tr>\n",
       "      <th>year</th>\n",
       "      <td>11914.0</td>\n",
       "      <td>6.615662</td>\n",
       "      <td>7.579740</td>\n",
       "      <td>0.0</td>\n",
       "      <td>1.0</td>\n",
       "      <td>2.0</td>\n",
       "      <td>10.0</td>\n",
       "      <td>27.0</td>\n",
       "    </tr>\n",
       "    <tr>\n",
       "      <th>engine_hp</th>\n",
       "      <td>11914.0</td>\n",
       "      <td>247.941749</td>\n",
       "      <td>110.507669</td>\n",
       "      <td>0.0</td>\n",
       "      <td>170.0</td>\n",
       "      <td>225.0</td>\n",
       "      <td>300.0</td>\n",
       "      <td>1001.0</td>\n",
       "    </tr>\n",
       "    <tr>\n",
       "      <th>engine_cylinders</th>\n",
       "      <td>11914.0</td>\n",
       "      <td>5.614655</td>\n",
       "      <td>1.800554</td>\n",
       "      <td>0.0</td>\n",
       "      <td>4.0</td>\n",
       "      <td>6.0</td>\n",
       "      <td>6.0</td>\n",
       "      <td>16.0</td>\n",
       "    </tr>\n",
       "    <tr>\n",
       "      <th>number_of_doors</th>\n",
       "      <td>11914.0</td>\n",
       "      <td>3.434363</td>\n",
       "      <td>0.884460</td>\n",
       "      <td>0.0</td>\n",
       "      <td>2.0</td>\n",
       "      <td>4.0</td>\n",
       "      <td>4.0</td>\n",
       "      <td>4.0</td>\n",
       "    </tr>\n",
       "    <tr>\n",
       "      <th>highway_mpg</th>\n",
       "      <td>11914.0</td>\n",
       "      <td>26.637485</td>\n",
       "      <td>8.863001</td>\n",
       "      <td>12.0</td>\n",
       "      <td>22.0</td>\n",
       "      <td>26.0</td>\n",
       "      <td>30.0</td>\n",
       "      <td>354.0</td>\n",
       "    </tr>\n",
       "    <tr>\n",
       "      <th>city_mpg</th>\n",
       "      <td>11914.0</td>\n",
       "      <td>19.733255</td>\n",
       "      <td>8.987798</td>\n",
       "      <td>7.0</td>\n",
       "      <td>16.0</td>\n",
       "      <td>18.0</td>\n",
       "      <td>22.0</td>\n",
       "      <td>137.0</td>\n",
       "    </tr>\n",
       "    <tr>\n",
       "      <th>popularity</th>\n",
       "      <td>11914.0</td>\n",
       "      <td>1554.911197</td>\n",
       "      <td>1441.855347</td>\n",
       "      <td>2.0</td>\n",
       "      <td>549.0</td>\n",
       "      <td>1385.0</td>\n",
       "      <td>2009.0</td>\n",
       "      <td>5657.0</td>\n",
       "    </tr>\n",
       "  </tbody>\n",
       "</table>\n",
       "</div>"
      ],
      "text/plain": [
       "                    count         mean          std   min    25%     50%  \\\n",
       "year              11914.0     6.615662     7.579740   0.0    1.0     2.0   \n",
       "engine_hp         11914.0   247.941749   110.507669   0.0  170.0   225.0   \n",
       "engine_cylinders  11914.0     5.614655     1.800554   0.0    4.0     6.0   \n",
       "number_of_doors   11914.0     3.434363     0.884460   0.0    2.0     4.0   \n",
       "highway_mpg       11914.0    26.637485     8.863001  12.0   22.0    26.0   \n",
       "city_mpg          11914.0    19.733255     8.987798   7.0   16.0    18.0   \n",
       "popularity        11914.0  1554.911197  1441.855347   2.0  549.0  1385.0   \n",
       "\n",
       "                     75%     max  \n",
       "year                10.0    27.0  \n",
       "engine_hp          300.0  1001.0  \n",
       "engine_cylinders     6.0    16.0  \n",
       "number_of_doors      4.0     4.0  \n",
       "highway_mpg         30.0   354.0  \n",
       "city_mpg            22.0   137.0  \n",
       "popularity        2009.0  5657.0  "
      ]
     },
     "execution_count": 130,
     "metadata": {},
     "output_type": "execute_result"
    }
   ],
   "source": [
    "num_df.describe().T"
   ]
  },
  {
   "cell_type": "code",
   "execution_count": 131,
   "id": "3cebdc9e",
   "metadata": {},
   "outputs": [],
   "source": [
    "scaler = MinMaxScaler()\n",
    "num_df = scaler.fit_transform(num_df)\n",
    "num_df = pd.DataFrame(num_df, columns=cols)"
   ]
  },
  {
   "cell_type": "code",
   "execution_count": 132,
   "id": "2596451d",
   "metadata": {},
   "outputs": [
    {
     "data": {
      "text/html": [
       "<div>\n",
       "<style scoped>\n",
       "    .dataframe tbody tr th:only-of-type {\n",
       "        vertical-align: middle;\n",
       "    }\n",
       "\n",
       "    .dataframe tbody tr th {\n",
       "        vertical-align: top;\n",
       "    }\n",
       "\n",
       "    .dataframe thead th {\n",
       "        text-align: right;\n",
       "    }\n",
       "</style>\n",
       "<table border=\"1\" class=\"dataframe\">\n",
       "  <thead>\n",
       "    <tr style=\"text-align: right;\">\n",
       "      <th></th>\n",
       "      <th>count</th>\n",
       "      <th>mean</th>\n",
       "      <th>std</th>\n",
       "      <th>min</th>\n",
       "      <th>25%</th>\n",
       "      <th>50%</th>\n",
       "      <th>75%</th>\n",
       "      <th>max</th>\n",
       "    </tr>\n",
       "  </thead>\n",
       "  <tbody>\n",
       "    <tr>\n",
       "      <th>year</th>\n",
       "      <td>11914.0</td>\n",
       "      <td>0.245025</td>\n",
       "      <td>0.280731</td>\n",
       "      <td>0.0</td>\n",
       "      <td>0.037037</td>\n",
       "      <td>0.074074</td>\n",
       "      <td>0.370370</td>\n",
       "      <td>1.0</td>\n",
       "    </tr>\n",
       "    <tr>\n",
       "      <th>engine_hp</th>\n",
       "      <td>11914.0</td>\n",
       "      <td>0.247694</td>\n",
       "      <td>0.110397</td>\n",
       "      <td>0.0</td>\n",
       "      <td>0.169830</td>\n",
       "      <td>0.224775</td>\n",
       "      <td>0.299700</td>\n",
       "      <td>1.0</td>\n",
       "    </tr>\n",
       "    <tr>\n",
       "      <th>engine_cylinders</th>\n",
       "      <td>11914.0</td>\n",
       "      <td>0.350916</td>\n",
       "      <td>0.112535</td>\n",
       "      <td>0.0</td>\n",
       "      <td>0.250000</td>\n",
       "      <td>0.375000</td>\n",
       "      <td>0.375000</td>\n",
       "      <td>1.0</td>\n",
       "    </tr>\n",
       "    <tr>\n",
       "      <th>number_of_doors</th>\n",
       "      <td>11914.0</td>\n",
       "      <td>0.858591</td>\n",
       "      <td>0.221115</td>\n",
       "      <td>0.0</td>\n",
       "      <td>0.500000</td>\n",
       "      <td>1.000000</td>\n",
       "      <td>1.000000</td>\n",
       "      <td>1.0</td>\n",
       "    </tr>\n",
       "    <tr>\n",
       "      <th>highway_mpg</th>\n",
       "      <td>11914.0</td>\n",
       "      <td>0.042800</td>\n",
       "      <td>0.025915</td>\n",
       "      <td>0.0</td>\n",
       "      <td>0.029240</td>\n",
       "      <td>0.040936</td>\n",
       "      <td>0.052632</td>\n",
       "      <td>1.0</td>\n",
       "    </tr>\n",
       "    <tr>\n",
       "      <th>city_mpg</th>\n",
       "      <td>11914.0</td>\n",
       "      <td>0.097948</td>\n",
       "      <td>0.069137</td>\n",
       "      <td>0.0</td>\n",
       "      <td>0.069231</td>\n",
       "      <td>0.084615</td>\n",
       "      <td>0.115385</td>\n",
       "      <td>1.0</td>\n",
       "    </tr>\n",
       "    <tr>\n",
       "      <th>popularity</th>\n",
       "      <td>11914.0</td>\n",
       "      <td>0.274609</td>\n",
       "      <td>0.254970</td>\n",
       "      <td>0.0</td>\n",
       "      <td>0.096729</td>\n",
       "      <td>0.244562</td>\n",
       "      <td>0.354907</td>\n",
       "      <td>1.0</td>\n",
       "    </tr>\n",
       "  </tbody>\n",
       "</table>\n",
       "</div>"
      ],
      "text/plain": [
       "                    count      mean       std  min       25%       50%  \\\n",
       "year              11914.0  0.245025  0.280731  0.0  0.037037  0.074074   \n",
       "engine_hp         11914.0  0.247694  0.110397  0.0  0.169830  0.224775   \n",
       "engine_cylinders  11914.0  0.350916  0.112535  0.0  0.250000  0.375000   \n",
       "number_of_doors   11914.0  0.858591  0.221115  0.0  0.500000  1.000000   \n",
       "highway_mpg       11914.0  0.042800  0.025915  0.0  0.029240  0.040936   \n",
       "city_mpg          11914.0  0.097948  0.069137  0.0  0.069231  0.084615   \n",
       "popularity        11914.0  0.274609  0.254970  0.0  0.096729  0.244562   \n",
       "\n",
       "                       75%  max  \n",
       "year              0.370370  1.0  \n",
       "engine_hp         0.299700  1.0  \n",
       "engine_cylinders  0.375000  1.0  \n",
       "number_of_doors   1.000000  1.0  \n",
       "highway_mpg       0.052632  1.0  \n",
       "city_mpg          0.115385  1.0  \n",
       "popularity        0.354907  1.0  "
      ]
     },
     "execution_count": 132,
     "metadata": {},
     "output_type": "execute_result"
    }
   ],
   "source": [
    "num_df.describe().T"
   ]
  },
  {
   "cell_type": "code",
   "execution_count": 143,
   "id": "5364cc86",
   "metadata": {},
   "outputs": [],
   "source": [
    "X = pd.concat([num_df, cat_df], axis=1)\n",
    "y = np.log1p(car_df['msrp'].values)"
   ]
  },
  {
   "cell_type": "code",
   "execution_count": 144,
   "id": "bee015c5",
   "metadata": {},
   "outputs": [],
   "source": [
    "pd.set_option('display.max_rows', None)"
   ]
  },
  {
   "cell_type": "code",
   "execution_count": 145,
   "id": "58aa96cc",
   "metadata": {},
   "outputs": [
    {
     "data": {
      "text/html": [
       "<div>\n",
       "<style scoped>\n",
       "    .dataframe tbody tr th:only-of-type {\n",
       "        vertical-align: middle;\n",
       "    }\n",
       "\n",
       "    .dataframe tbody tr th {\n",
       "        vertical-align: top;\n",
       "    }\n",
       "\n",
       "    .dataframe thead th {\n",
       "        text-align: right;\n",
       "    }\n",
       "</style>\n",
       "<table border=\"1\" class=\"dataframe\">\n",
       "  <thead>\n",
       "    <tr style=\"text-align: right;\">\n",
       "      <th></th>\n",
       "      <th>year</th>\n",
       "      <th>engine_hp</th>\n",
       "      <th>engine_cylinders</th>\n",
       "      <th>number_of_doors</th>\n",
       "      <th>highway_mpg</th>\n",
       "      <th>city_mpg</th>\n",
       "      <th>popularity</th>\n",
       "      <th>is_make_chevrolet</th>\n",
       "      <th>is_make_ford</th>\n",
       "      <th>is_make_volkswagen</th>\n",
       "      <th>...</th>\n",
       "      <th>is_type_premium_unleaded_(recommended)</th>\n",
       "      <th>is_type_flex-fuel_(unleaded/e85)</th>\n",
       "      <th>is_tranmission_automatic</th>\n",
       "      <th>is_tranmission_manual</th>\n",
       "      <th>is_tranmission_automated_manual</th>\n",
       "      <th>is_tranmission_direct_drive</th>\n",
       "      <th>is_market_category_crossover</th>\n",
       "      <th>is_market_category_flex_fuel</th>\n",
       "      <th>is_market_category_luxury</th>\n",
       "      <th>is_market_category_luxury,performance</th>\n",
       "    </tr>\n",
       "  </thead>\n",
       "  <tbody>\n",
       "    <tr>\n",
       "      <th>0</th>\n",
       "      <td>0.222222</td>\n",
       "      <td>0.334665</td>\n",
       "      <td>0.375</td>\n",
       "      <td>0.5</td>\n",
       "      <td>0.040936</td>\n",
       "      <td>0.092308</td>\n",
       "      <td>0.692131</td>\n",
       "      <td>0</td>\n",
       "      <td>0</td>\n",
       "      <td>0</td>\n",
       "      <td>...</td>\n",
       "      <td>0</td>\n",
       "      <td>0</td>\n",
       "      <td>0</td>\n",
       "      <td>1</td>\n",
       "      <td>0</td>\n",
       "      <td>0</td>\n",
       "      <td>0</td>\n",
       "      <td>0</td>\n",
       "      <td>0</td>\n",
       "      <td>0</td>\n",
       "    </tr>\n",
       "    <tr>\n",
       "      <th>1</th>\n",
       "      <td>0.222222</td>\n",
       "      <td>0.299700</td>\n",
       "      <td>0.375</td>\n",
       "      <td>0.5</td>\n",
       "      <td>0.046784</td>\n",
       "      <td>0.092308</td>\n",
       "      <td>0.692131</td>\n",
       "      <td>0</td>\n",
       "      <td>0</td>\n",
       "      <td>0</td>\n",
       "      <td>...</td>\n",
       "      <td>0</td>\n",
       "      <td>0</td>\n",
       "      <td>0</td>\n",
       "      <td>1</td>\n",
       "      <td>0</td>\n",
       "      <td>0</td>\n",
       "      <td>0</td>\n",
       "      <td>0</td>\n",
       "      <td>0</td>\n",
       "      <td>1</td>\n",
       "    </tr>\n",
       "    <tr>\n",
       "      <th>2</th>\n",
       "      <td>0.222222</td>\n",
       "      <td>0.299700</td>\n",
       "      <td>0.375</td>\n",
       "      <td>0.5</td>\n",
       "      <td>0.046784</td>\n",
       "      <td>0.100000</td>\n",
       "      <td>0.692131</td>\n",
       "      <td>0</td>\n",
       "      <td>0</td>\n",
       "      <td>0</td>\n",
       "      <td>...</td>\n",
       "      <td>0</td>\n",
       "      <td>0</td>\n",
       "      <td>0</td>\n",
       "      <td>1</td>\n",
       "      <td>0</td>\n",
       "      <td>0</td>\n",
       "      <td>0</td>\n",
       "      <td>0</td>\n",
       "      <td>0</td>\n",
       "      <td>0</td>\n",
       "    </tr>\n",
       "    <tr>\n",
       "      <th>3</th>\n",
       "      <td>0.222222</td>\n",
       "      <td>0.229770</td>\n",
       "      <td>0.375</td>\n",
       "      <td>0.5</td>\n",
       "      <td>0.046784</td>\n",
       "      <td>0.084615</td>\n",
       "      <td>0.692131</td>\n",
       "      <td>0</td>\n",
       "      <td>0</td>\n",
       "      <td>0</td>\n",
       "      <td>...</td>\n",
       "      <td>0</td>\n",
       "      <td>0</td>\n",
       "      <td>0</td>\n",
       "      <td>1</td>\n",
       "      <td>0</td>\n",
       "      <td>0</td>\n",
       "      <td>0</td>\n",
       "      <td>0</td>\n",
       "      <td>0</td>\n",
       "      <td>1</td>\n",
       "    </tr>\n",
       "    <tr>\n",
       "      <th>4</th>\n",
       "      <td>0.222222</td>\n",
       "      <td>0.229770</td>\n",
       "      <td>0.375</td>\n",
       "      <td>0.5</td>\n",
       "      <td>0.046784</td>\n",
       "      <td>0.084615</td>\n",
       "      <td>0.692131</td>\n",
       "      <td>0</td>\n",
       "      <td>0</td>\n",
       "      <td>0</td>\n",
       "      <td>...</td>\n",
       "      <td>0</td>\n",
       "      <td>0</td>\n",
       "      <td>0</td>\n",
       "      <td>1</td>\n",
       "      <td>0</td>\n",
       "      <td>0</td>\n",
       "      <td>0</td>\n",
       "      <td>0</td>\n",
       "      <td>1</td>\n",
       "      <td>0</td>\n",
       "    </tr>\n",
       "  </tbody>\n",
       "</table>\n",
       "<p>5 rows × 23 columns</p>\n",
       "</div>"
      ],
      "text/plain": [
       "       year  engine_hp  engine_cylinders  number_of_doors  highway_mpg  \\\n",
       "0  0.222222   0.334665             0.375              0.5     0.040936   \n",
       "1  0.222222   0.299700             0.375              0.5     0.046784   \n",
       "2  0.222222   0.299700             0.375              0.5     0.046784   \n",
       "3  0.222222   0.229770             0.375              0.5     0.046784   \n",
       "4  0.222222   0.229770             0.375              0.5     0.046784   \n",
       "\n",
       "   city_mpg  popularity  is_make_chevrolet  is_make_ford  is_make_volkswagen  \\\n",
       "0  0.092308    0.692131                  0             0                   0   \n",
       "1  0.092308    0.692131                  0             0                   0   \n",
       "2  0.100000    0.692131                  0             0                   0   \n",
       "3  0.084615    0.692131                  0             0                   0   \n",
       "4  0.084615    0.692131                  0             0                   0   \n",
       "\n",
       "   ...  is_type_premium_unleaded_(recommended)  \\\n",
       "0  ...                                       0   \n",
       "1  ...                                       0   \n",
       "2  ...                                       0   \n",
       "3  ...                                       0   \n",
       "4  ...                                       0   \n",
       "\n",
       "   is_type_flex-fuel_(unleaded/e85)  is_tranmission_automatic  \\\n",
       "0                                 0                         0   \n",
       "1                                 0                         0   \n",
       "2                                 0                         0   \n",
       "3                                 0                         0   \n",
       "4                                 0                         0   \n",
       "\n",
       "   is_tranmission_manual  is_tranmission_automated_manual  \\\n",
       "0                      1                                0   \n",
       "1                      1                                0   \n",
       "2                      1                                0   \n",
       "3                      1                                0   \n",
       "4                      1                                0   \n",
       "\n",
       "   is_tranmission_direct_drive  is_market_category_crossover  \\\n",
       "0                            0                             0   \n",
       "1                            0                             0   \n",
       "2                            0                             0   \n",
       "3                            0                             0   \n",
       "4                            0                             0   \n",
       "\n",
       "   is_market_category_flex_fuel  is_market_category_luxury  \\\n",
       "0                             0                          0   \n",
       "1                             0                          0   \n",
       "2                             0                          0   \n",
       "3                             0                          0   \n",
       "4                             0                          1   \n",
       "\n",
       "   is_market_category_luxury,performance  \n",
       "0                                      0  \n",
       "1                                      1  \n",
       "2                                      0  \n",
       "3                                      1  \n",
       "4                                      0  \n",
       "\n",
       "[5 rows x 23 columns]"
      ]
     },
     "execution_count": 145,
     "metadata": {},
     "output_type": "execute_result"
    }
   ],
   "source": [
    "X.head()"
   ]
  },
  {
   "cell_type": "code",
   "execution_count": 146,
   "id": "a88ca7d1",
   "metadata": {},
   "outputs": [
    {
     "data": {
      "text/plain": [
       "year                                      0\n",
       "engine_hp                                 0\n",
       "engine_cylinders                          0\n",
       "number_of_doors                           0\n",
       "highway_mpg                               0\n",
       "city_mpg                                  0\n",
       "popularity                                0\n",
       "is_make_chevrolet                         0\n",
       "is_make_ford                              0\n",
       "is_make_volkswagen                        0\n",
       "is_make_toyota                            0\n",
       "is_type_regular_unleaded                  0\n",
       "is_type_premium_unleaded_(required)       0\n",
       "is_type_premium_unleaded_(recommended)    0\n",
       "is_type_flex-fuel_(unleaded/e85)          0\n",
       "is_tranmission_automatic                  0\n",
       "is_tranmission_manual                     0\n",
       "is_tranmission_automated_manual           0\n",
       "is_tranmission_direct_drive               0\n",
       "is_market_category_crossover              0\n",
       "is_market_category_flex_fuel              0\n",
       "is_market_category_luxury                 0\n",
       "is_market_category_luxury,performance     0\n",
       "dtype: int64"
      ]
     },
     "execution_count": 146,
     "metadata": {},
     "output_type": "execute_result"
    }
   ],
   "source": [
    "X.isnull().sum()"
   ]
  },
  {
   "cell_type": "code",
   "execution_count": 147,
   "id": "3f0fd2c5",
   "metadata": {},
   "outputs": [],
   "source": [
    "from sklearn.model_selection import train_test_split #split train and test dataset\n",
    "X_train, X_test, y_train, y_test = train_test_split(X, y, test_size=0.2, random_state=42)"
   ]
  },
  {
   "cell_type": "code",
   "execution_count": 148,
   "id": "6d5f7a97",
   "metadata": {},
   "outputs": [],
   "source": [
    "lin_reg = LinearRegression()\n",
    "lin_reg.fit(X_train, y_train)\n",
    "y_pred = lin_reg.predict(X_train)"
   ]
  },
  {
   "cell_type": "code",
   "execution_count": 149,
   "id": "83bfedfa",
   "metadata": {},
   "outputs": [
    {
     "data": {
      "image/png": "[encoded data removed]",
      "text/plain": [
       "<Figure size 360x288 with 1 Axes>"
      ]
     },
     "metadata": {
      "needs_background": "light"
     },
     "output_type": "display_data"
    }
   ],
   "source": [
    "#let see the how good was the prediction\n",
    "plt.figure(figsize=(5,4))\n",
    "\n",
    "sns.histplot(y_train, label='target', color='black',bins=30)\n",
    "sns.histplot(y_pred, label='prediction',color='red', bins=30)\n",
    "plt.legend()\n",
    "plt.xlabel('log(1+price)')\n",
    "plt.ylabel('Count')\n",
    "plt.title('Predictions vs Actual Distribution')\n",
    "\n",
    "plt.show();"
   ]
  },
  {
   "cell_type": "code",
   "execution_count": 150,
   "id": "bc23ab00",
   "metadata": {},
   "outputs": [
    {
     "data": {
      "text/plain": [
       "0.4698198592595307"
      ]
     },
     "execution_count": 150,
     "metadata": {},
     "output_type": "execute_result"
    }
   ],
   "source": [
    "lin_mse = mean_squared_error(y_train, y_pred)\n",
    "lin_rmse = np.sqrt(lin_mse)\n",
    "lin_rmse"
   ]
  },
  {
   "cell_type": "code",
   "execution_count": 151,
   "id": "bc8fb8ae",
   "metadata": {},
   "outputs": [
    {
     "data": {
      "text/plain": [
       "0.4741214391143681"
      ]
     },
     "execution_count": 151,
     "metadata": {},
     "output_type": "execute_result"
    }
   ],
   "source": [
    "lin_reg_cv_scores = cross_val_score(lin_reg, X_train, y_train, scoring='neg_mean_squared_error', cv = 10)\n",
    "lin_reg_rmse_scores = np.sqrt(-lin_reg_cv_scores)\n",
    "lin_reg_rmse_scores.mean()"
   ]
  },
  {
   "cell_type": "code",
   "execution_count": 153,
   "id": "e0d19668",
   "metadata": {},
   "outputs": [
    {
     "data": {
      "text/plain": [
       "0.06479186054514156"
      ]
     },
     "execution_count": 153,
     "metadata": {},
     "output_type": "execute_result"
    }
   ],
   "source": [
    "tree_reg = DecisionTreeRegressor()\n",
    "tree_reg.fit(X_train, y_train)\n",
    "y_pred = tree_reg.predict(X_train)\n",
    "tree_mse = mean_squared_error(y_train, price_predictions)\n",
    "tree_rmse = np.sqrt(tree_mse)\n",
    "tree_rmse"
   ]
  },
  {
   "cell_type": "code",
   "execution_count": 154,
   "id": "6077df20",
   "metadata": {},
   "outputs": [
    {
     "data": {
      "image/png": "[encoded data removed]",
      "text/plain": [
       "<Figure size 360x288 with 1 Axes>"
      ]
     },
     "metadata": {
      "needs_background": "light"
     },
     "output_type": "display_data"
    }
   ],
   "source": [
    "#let see the how good was the prediction\n",
    "plt.figure(figsize=(5,4))\n",
    "\n",
    "sns.histplot(y_train, label='target', color='black',bins=30)\n",
    "sns.histplot(y_pred, label='prediction',color='red', bins=30)\n",
    "plt.legend()\n",
    "plt.xlabel('log(1+price)')\n",
    "plt.ylabel('Count')\n",
    "plt.title('Predictions vs Actual Distribution')\n",
    "\n",
    "plt.show();"
   ]
  },
  {
   "cell_type": "code",
   "execution_count": 155,
   "id": "0baa5e1e",
   "metadata": {},
   "outputs": [
    {
     "data": {
      "text/plain": [
       "0.12913530047109556"
      ]
     },
     "execution_count": 155,
     "metadata": {},
     "output_type": "execute_result"
    }
   ],
   "source": [
    "tree_reg_cv_scores = cross_val_score(tree_reg, X_train, y_train, scoring='neg_mean_squared_error', cv = 10)\n",
    "tree_reg_rmse_scores = np.sqrt(-tree_reg_cv_scores)\n",
    "tree_reg_rmse_scores.mean()"
   ]
  },
  {
   "cell_type": "code",
   "execution_count": 166,
   "id": "37699435",
   "metadata": {},
   "outputs": [
    {
     "data": {
      "text/plain": [
       "0.07055448055173379"
      ]
     },
     "execution_count": 166,
     "metadata": {},
     "output_type": "execute_result"
    }
   ],
   "source": [
    "forest_reg = RandomForestRegressor()\n",
    "forest_reg.fit(X_train, y_train)\n",
    "y_pred = forest_reg.predict(X_train)\n",
    "forest_mse = mean_squared_error(y_train, price_predictions)\n",
    "forest_rmse = np.sqrt(forest_mse)\n",
    "forest_rmse"
   ]
  },
  {
   "cell_type": "code",
   "execution_count": 158,
   "id": "9db46ba3",
   "metadata": {},
   "outputs": [
    {
     "data": {
      "image/png": "[encoded data removed]",
      "text/plain": [
       "<Figure size 360x288 with 1 Axes>"
      ]
     },
     "metadata": {
      "needs_background": "light"
     },
     "output_type": "display_data"
    }
   ],
   "source": [
    "#let see the how good was the prediction\n",
    "plt.figure(figsize=(5,4))\n",
    "\n",
    "sns.histplot(y_train, label='target', color='black',bins=30)\n",
    "sns.histplot(y_pred, label='prediction',color='red', bins=30)\n",
    "plt.legend()\n",
    "plt.xlabel('log(1+price)')\n",
    "plt.ylabel('Count')\n",
    "plt.title('Predictions vs Actual Distribution')\n",
    "\n",
    "plt.show();"
   ]
  },
  {
   "cell_type": "code",
   "execution_count": 159,
   "id": "b483d8eb",
   "metadata": {},
   "outputs": [
    {
     "data": {
      "text/plain": [
       "0.11608487450326206"
      ]
     },
     "execution_count": 159,
     "metadata": {},
     "output_type": "execute_result"
    }
   ],
   "source": [
    "forest_reg_cv_scores = cross_val_score(forest_reg, X_train, y_train, scoring='neg_mean_squared_error', cv = 10)\n",
    "forest_reg_rmse_scores = np.sqrt(-forest_reg_cv_scores)\n",
    "forest_reg_rmse_scores.mean()"
   ]
  },
  {
   "cell_type": "code",
   "execution_count": 160,
   "id": "206c28d9",
   "metadata": {},
   "outputs": [
    {
     "data": {
      "text/plain": [
       "GridSearchCV(cv=10, estimator=RandomForestRegressor(),\n",
       "             param_grid=[{'max_features': [2, 4, 6, 8],\n",
       "                          'n_estimators': [3, 10, 30]},\n",
       "                         {'bootstrap': [False], 'max_features': [2, 3, 4],\n",
       "                          'n_estimators': [3, 10]}],\n",
       "             return_train_score=True, scoring='neg_mean_squared_error')"
      ]
     },
     "execution_count": 160,
     "metadata": {},
     "output_type": "execute_result"
    }
   ],
   "source": [
    "#hyper tuning of RF\n",
    "from sklearn.model_selection import GridSearchCV\n",
    "\n",
    "param_grid = [\n",
    "    {'n_estimators': [3, 10, 30], 'max_features': [2, 4, 6, 8]},\n",
    "    {'bootstrap': [False], 'n_estimators': [3, 10], 'max_features': [2, 3, 4]},\n",
    "  ]\n",
    "\n",
    "forest_reg = RandomForestRegressor()\n",
    "\n",
    "grid_search = GridSearchCV(forest_reg, param_grid, scoring='neg_mean_squared_error', return_train_score=True, cv=10,)\n",
    "grid_search.fit(X_train, y_train)"
   ]
  },
  {
   "cell_type": "code",
   "execution_count": 161,
   "id": "97c8141d",
   "metadata": {},
   "outputs": [
    {
     "data": {
      "text/plain": [
       "array([5.06917725e-01, 1.91350060e-01, 3.23844578e-02, 8.70641228e-03,\n",
       "       3.02720495e-02, 3.18410250e-02, 1.32149858e-02, 7.80214627e-04,\n",
       "       3.92953985e-04, 3.48320159e-04, 5.18421912e-04, 6.25743870e-02,\n",
       "       6.08740516e-02, 5.20277870e-03, 1.21956641e-03, 7.15030612e-03,\n",
       "       3.73911656e-02, 6.66338316e-04, 5.01588797e-05, 1.84877557e-03,\n",
       "       1.40956792e-03, 3.29207467e-03, 1.59420271e-03])"
      ]
     },
     "execution_count": 161,
     "metadata": {},
     "output_type": "execute_result"
    }
   ],
   "source": [
    "feature_importances = grid_search.best_estimator_.feature_importances_\n",
    "feature_importances"
   ]
  },
  {
   "cell_type": "code",
   "execution_count": 162,
   "id": "fc466286",
   "metadata": {},
   "outputs": [
    {
     "data": {
      "text/plain": [
       "0.11098764417254152"
      ]
     },
     "execution_count": 162,
     "metadata": {},
     "output_type": "execute_result"
    }
   ],
   "source": [
    "final_model = grid_search.best_estimator_\n",
    "final_predictions = final_model.predict(X_test)\n",
    "final_mse = mean_squared_error(y_test, final_predictions)\n",
    "final_rmse = np.sqrt(final_mse)\n",
    "final_rmse"
   ]
  },
  {
   "cell_type": "code",
   "execution_count": 163,
   "id": "eb18c26f",
   "metadata": {},
   "outputs": [
    {
     "data": {
      "image/png": "[encoded data removed]",
      "text/plain": [
       "<Figure size 360x288 with 1 Axes>"
      ]
     },
     "metadata": {
      "needs_background": "light"
     },
     "output_type": "display_data"
    }
   ],
   "source": [
    "plt.figure(figsize=(5,4))\n",
    "\n",
    "sns.histplot(y_test, label='target', color='black',bins=30)\n",
    "sns.histplot(final_predictions, label='prediction',color='red', bins=30)\n",
    "plt.legend()\n",
    "plt.xlabel('log(1+price)')\n",
    "plt.ylabel('Count')\n",
    "plt.title('Predictions vs Actual Distribution of Test data')\n",
    "\n",
    "plt.show();"
   ]
  },
  {
   "cell_type": "code",
   "execution_count": 165,
   "id": "bf5c6544",
   "metadata": {},
   "outputs": [
    {
     "data": {
      "image/png": "[encoded data removed]",
      "text/plain": [
       "<Figure size 432x288 with 1 Axes>"
      ]
     },
     "metadata": {
      "needs_background": "light"
     },
     "output_type": "display_data"
    }
   ],
   "source": [
    "plt.scatter(y_test, final_predictions);"
   ]
  },
  {
   "cell_type": "markdown",
   "id": "7eb7ff5a",
   "metadata": {},
   "source": [
    "# Save the Model"
   ]
  },
  {
   "cell_type": "code",
   "execution_count": 164,
   "id": "f399f17e",
   "metadata": {},
   "outputs": [],
   "source": [
    "import pickle \n",
    "file = open('model.pkl', 'wb') # open a file, where you ant to store the data\n",
    "pickle.dump(final_model, file) #dump information to that file"
   ]
  }
 ],
 "metadata": {
  "kernelspec": {
   "display_name": "Python 3",
   "language": "python",
   "name": "python3"
  },
  "language_info": {
   "codemirror_mode": {
    "name": "ipython",
    "version": 3
   },
   "file_extension": ".py",
   "mimetype": "text/x-python",
   "name": "python",
   "nbconvert_exporter": "python",
   "pygments_lexer": "ipython3",
   "version": "3.7.10"
  }
 },
 "nbformat": 4,
 "nbformat_minor": 5
}
