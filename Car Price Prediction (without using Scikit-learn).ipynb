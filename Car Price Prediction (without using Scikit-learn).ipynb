{
 "cells": [
  {
   "cell_type": "markdown",
   "metadata": {},
   "source": [
    "# Car Features and MSRP Dataet\n",
    "\n",
    "- `Number of Instances`: **11914**\n",
    "- `Number of Attributes`: **16**\n",
    "- `Attributes`<u>(Description of Attributes, according to me which I got from dicussions and Google beacuse it was not given in the [Kaggle](https://www.kaggle.com/CooperUnion/cardataset) page)</u>: \n",
    "  - `Make`: Make of a car(BMW, Volkswagen and so on)\n",
    "  - `Model`: Model of a car\n",
    "  - `Year`: Year when the car was manufactured\n",
    "  - `Engine Fuel Type`: Type of fuel engine needs(disel and so on)\n",
    "  - `Engine HP`: Horsepower of engine\n",
    "  - `Engine Cylinders`: Number of cylinders in engine\n",
    "  - `Transmission Type`: Type of transmission(automatic or manual)\n",
    "  - `Driven Wheels`: front, rear, all\n",
    "  - `Number of Doors`: Number of doors a car has\n",
    "  - `Market Category`: luxury, crossover and so on\n",
    "  - `Vehicle Size`: compact, midsize, large\n",
    "  - `Vehicle Style`: Style of vehicle(sedan, convertible and so on)\n",
    "  - `Highway MPG`: miles per gallon(MPG) in highway\n",
    "  - `City MPG`: miles per gallon(MPG) in city\n",
    "  - `Popularity`: Number of times the car was mentioned in a Twitter stream\n",
    "  - `MSRP`: Manufacturer's Suggested Retail Price"
   ]
  },
  {
   "cell_type": "markdown",
   "metadata": {},
   "source": [
    "## Understand the Business Requirements\n",
    "\n",
    "**Problem statement:**\n",
    "\n",
    "`Cars dataset with features including make, model, year, engine, and other properties of the car used to predict its price.`"
   ]
  },
  {
   "cell_type": "markdown",
   "metadata": {},
   "source": [
    "## Exploratory Data Analysis(EDA):"
   ]
  },
  {
   "cell_type": "code",
   "execution_count": 1,
   "metadata": {},
   "outputs": [],
   "source": [
    "#Python Libraries \n",
    "import pandas as pd #Data Processing and CSV file I/o\n",
    "import numpy as np #for numeric operations\n",
    "import matplotlib.pyplot as plt\n",
    "import seaborn as sns\n",
    "\n",
    "%matplotlib inline \n",
    "#to make sure that plots rendered correctly in jupyter notebook\n",
    "\n",
    "# to make this notebook's output stable across runs\n",
    "np.random.seed(42)"
   ]
  },
  {
   "cell_type": "code",
   "execution_count": 2,
   "metadata": {},
   "outputs": [],
   "source": [
    "car_df = pd.read_csv('archive.zip') #reading the .csv file which is present in archive.zip file "
   ]
  },
  {
   "cell_type": "code",
   "execution_count": 3,
   "metadata": {},
   "outputs": [
    {
     "data": {
      "text/html": [
       "<div>\n",
       "<style scoped>\n",
       "    .dataframe tbody tr th:only-of-type {\n",
       "        vertical-align: middle;\n",
       "    }\n",
       "\n",
       "    .dataframe tbody tr th {\n",
       "        vertical-align: top;\n",
       "    }\n",
       "\n",
       "    .dataframe thead th {\n",
       "        text-align: right;\n",
       "    }\n",
       "</style>\n",
       "<table border=\"1\" class=\"dataframe\">\n",
       "  <thead>\n",
       "    <tr style=\"text-align: right;\">\n",
       "      <th></th>\n",
       "      <th>Make</th>\n",
       "      <th>Model</th>\n",
       "      <th>Year</th>\n",
       "      <th>Engine Fuel Type</th>\n",
       "      <th>Engine HP</th>\n",
       "      <th>Engine Cylinders</th>\n",
       "      <th>Transmission Type</th>\n",
       "      <th>Driven_Wheels</th>\n",
       "      <th>Number of Doors</th>\n",
       "      <th>Market Category</th>\n",
       "      <th>Vehicle Size</th>\n",
       "      <th>Vehicle Style</th>\n",
       "      <th>highway MPG</th>\n",
       "      <th>city mpg</th>\n",
       "      <th>Popularity</th>\n",
       "      <th>MSRP</th>\n",
       "    </tr>\n",
       "  </thead>\n",
       "  <tbody>\n",
       "    <tr>\n",
       "      <th>0</th>\n",
       "      <td>BMW</td>\n",
       "      <td>1 Series M</td>\n",
       "      <td>2011</td>\n",
       "      <td>premium unleaded (required)</td>\n",
       "      <td>335.0</td>\n",
       "      <td>6.0</td>\n",
       "      <td>MANUAL</td>\n",
       "      <td>rear wheel drive</td>\n",
       "      <td>2.0</td>\n",
       "      <td>Factory Tuner,Luxury,High-Performance</td>\n",
       "      <td>Compact</td>\n",
       "      <td>Coupe</td>\n",
       "      <td>26</td>\n",
       "      <td>19</td>\n",
       "      <td>3916</td>\n",
       "      <td>46135</td>\n",
       "    </tr>\n",
       "    <tr>\n",
       "      <th>1</th>\n",
       "      <td>BMW</td>\n",
       "      <td>1 Series</td>\n",
       "      <td>2011</td>\n",
       "      <td>premium unleaded (required)</td>\n",
       "      <td>300.0</td>\n",
       "      <td>6.0</td>\n",
       "      <td>MANUAL</td>\n",
       "      <td>rear wheel drive</td>\n",
       "      <td>2.0</td>\n",
       "      <td>Luxury,Performance</td>\n",
       "      <td>Compact</td>\n",
       "      <td>Convertible</td>\n",
       "      <td>28</td>\n",
       "      <td>19</td>\n",
       "      <td>3916</td>\n",
       "      <td>40650</td>\n",
       "    </tr>\n",
       "    <tr>\n",
       "      <th>2</th>\n",
       "      <td>BMW</td>\n",
       "      <td>1 Series</td>\n",
       "      <td>2011</td>\n",
       "      <td>premium unleaded (required)</td>\n",
       "      <td>300.0</td>\n",
       "      <td>6.0</td>\n",
       "      <td>MANUAL</td>\n",
       "      <td>rear wheel drive</td>\n",
       "      <td>2.0</td>\n",
       "      <td>Luxury,High-Performance</td>\n",
       "      <td>Compact</td>\n",
       "      <td>Coupe</td>\n",
       "      <td>28</td>\n",
       "      <td>20</td>\n",
       "      <td>3916</td>\n",
       "      <td>36350</td>\n",
       "    </tr>\n",
       "    <tr>\n",
       "      <th>3</th>\n",
       "      <td>BMW</td>\n",
       "      <td>1 Series</td>\n",
       "      <td>2011</td>\n",
       "      <td>premium unleaded (required)</td>\n",
       "      <td>230.0</td>\n",
       "      <td>6.0</td>\n",
       "      <td>MANUAL</td>\n",
       "      <td>rear wheel drive</td>\n",
       "      <td>2.0</td>\n",
       "      <td>Luxury,Performance</td>\n",
       "      <td>Compact</td>\n",
       "      <td>Coupe</td>\n",
       "      <td>28</td>\n",
       "      <td>18</td>\n",
       "      <td>3916</td>\n",
       "      <td>29450</td>\n",
       "    </tr>\n",
       "    <tr>\n",
       "      <th>4</th>\n",
       "      <td>BMW</td>\n",
       "      <td>1 Series</td>\n",
       "      <td>2011</td>\n",
       "      <td>premium unleaded (required)</td>\n",
       "      <td>230.0</td>\n",
       "      <td>6.0</td>\n",
       "      <td>MANUAL</td>\n",
       "      <td>rear wheel drive</td>\n",
       "      <td>2.0</td>\n",
       "      <td>Luxury</td>\n",
       "      <td>Compact</td>\n",
       "      <td>Convertible</td>\n",
       "      <td>28</td>\n",
       "      <td>18</td>\n",
       "      <td>3916</td>\n",
       "      <td>34500</td>\n",
       "    </tr>\n",
       "    <tr>\n",
       "      <th>5</th>\n",
       "      <td>BMW</td>\n",
       "      <td>1 Series</td>\n",
       "      <td>2012</td>\n",
       "      <td>premium unleaded (required)</td>\n",
       "      <td>230.0</td>\n",
       "      <td>6.0</td>\n",
       "      <td>MANUAL</td>\n",
       "      <td>rear wheel drive</td>\n",
       "      <td>2.0</td>\n",
       "      <td>Luxury,Performance</td>\n",
       "      <td>Compact</td>\n",
       "      <td>Coupe</td>\n",
       "      <td>28</td>\n",
       "      <td>18</td>\n",
       "      <td>3916</td>\n",
       "      <td>31200</td>\n",
       "    </tr>\n",
       "    <tr>\n",
       "      <th>6</th>\n",
       "      <td>BMW</td>\n",
       "      <td>1 Series</td>\n",
       "      <td>2012</td>\n",
       "      <td>premium unleaded (required)</td>\n",
       "      <td>300.0</td>\n",
       "      <td>6.0</td>\n",
       "      <td>MANUAL</td>\n",
       "      <td>rear wheel drive</td>\n",
       "      <td>2.0</td>\n",
       "      <td>Luxury,Performance</td>\n",
       "      <td>Compact</td>\n",
       "      <td>Convertible</td>\n",
       "      <td>26</td>\n",
       "      <td>17</td>\n",
       "      <td>3916</td>\n",
       "      <td>44100</td>\n",
       "    </tr>\n",
       "    <tr>\n",
       "      <th>7</th>\n",
       "      <td>BMW</td>\n",
       "      <td>1 Series</td>\n",
       "      <td>2012</td>\n",
       "      <td>premium unleaded (required)</td>\n",
       "      <td>300.0</td>\n",
       "      <td>6.0</td>\n",
       "      <td>MANUAL</td>\n",
       "      <td>rear wheel drive</td>\n",
       "      <td>2.0</td>\n",
       "      <td>Luxury,High-Performance</td>\n",
       "      <td>Compact</td>\n",
       "      <td>Coupe</td>\n",
       "      <td>28</td>\n",
       "      <td>20</td>\n",
       "      <td>3916</td>\n",
       "      <td>39300</td>\n",
       "    </tr>\n",
       "  </tbody>\n",
       "</table>\n",
       "</div>"
      ],
      "text/plain": [
       "  Make       Model  Year             Engine Fuel Type  Engine HP  \\\n",
       "0  BMW  1 Series M  2011  premium unleaded (required)      335.0   \n",
       "1  BMW    1 Series  2011  premium unleaded (required)      300.0   \n",
       "2  BMW    1 Series  2011  premium unleaded (required)      300.0   \n",
       "3  BMW    1 Series  2011  premium unleaded (required)      230.0   \n",
       "4  BMW    1 Series  2011  premium unleaded (required)      230.0   \n",
       "5  BMW    1 Series  2012  premium unleaded (required)      230.0   \n",
       "6  BMW    1 Series  2012  premium unleaded (required)      300.0   \n",
       "7  BMW    1 Series  2012  premium unleaded (required)      300.0   \n",
       "\n",
       "   Engine Cylinders Transmission Type     Driven_Wheels  Number of Doors  \\\n",
       "0               6.0            MANUAL  rear wheel drive              2.0   \n",
       "1               6.0            MANUAL  rear wheel drive              2.0   \n",
       "2               6.0            MANUAL  rear wheel drive              2.0   \n",
       "3               6.0            MANUAL  rear wheel drive              2.0   \n",
       "4               6.0            MANUAL  rear wheel drive              2.0   \n",
       "5               6.0            MANUAL  rear wheel drive              2.0   \n",
       "6               6.0            MANUAL  rear wheel drive              2.0   \n",
       "7               6.0            MANUAL  rear wheel drive              2.0   \n",
       "\n",
       "                         Market Category Vehicle Size Vehicle Style  \\\n",
       "0  Factory Tuner,Luxury,High-Performance      Compact         Coupe   \n",
       "1                     Luxury,Performance      Compact   Convertible   \n",
       "2                Luxury,High-Performance      Compact         Coupe   \n",
       "3                     Luxury,Performance      Compact         Coupe   \n",
       "4                                 Luxury      Compact   Convertible   \n",
       "5                     Luxury,Performance      Compact         Coupe   \n",
       "6                     Luxury,Performance      Compact   Convertible   \n",
       "7                Luxury,High-Performance      Compact         Coupe   \n",
       "\n",
       "   highway MPG  city mpg  Popularity   MSRP  \n",
       "0           26        19        3916  46135  \n",
       "1           28        19        3916  40650  \n",
       "2           28        20        3916  36350  \n",
       "3           28        18        3916  29450  \n",
       "4           28        18        3916  34500  \n",
       "5           28        18        3916  31200  \n",
       "6           26        17        3916  44100  \n",
       "7           28        20        3916  39300  "
      ]
     },
     "execution_count": 3,
     "metadata": {},
     "output_type": "execute_result"
    }
   ],
   "source": [
    "car_df.head(8) #top 8 rows"
   ]
  },
  {
   "cell_type": "code",
   "execution_count": 4,
   "metadata": {},
   "outputs": [],
   "source": [
    "#lowercasing all the column names and replacing space with underscores\n",
    "car_df.columns = car_df.columns.str.lower().str.replace(' ', '_')"
   ]
  },
  {
   "cell_type": "code",
   "execution_count": 5,
   "metadata": {},
   "outputs": [
    {
     "data": {
      "text/plain": [
       "Index(['make', 'model', 'year', 'engine_fuel_type', 'engine_hp',\n",
       "       'engine_cylinders', 'transmission_type', 'driven_wheels',\n",
       "       'number_of_doors', 'market_category', 'vehicle_size', 'vehicle_style',\n",
       "       'highway_mpg', 'city_mpg', 'popularity', 'msrp'],\n",
       "      dtype='object')"
      ]
     },
     "execution_count": 5,
     "metadata": {},
     "output_type": "execute_result"
    }
   ],
   "source": [
    "car_df.columns #columns name"
   ]
  },
  {
   "cell_type": "code",
   "execution_count": 6,
   "metadata": {},
   "outputs": [
    {
     "data": {
      "text/plain": [
       "make                  object\n",
       "model                 object\n",
       "year                   int64\n",
       "engine_fuel_type      object\n",
       "engine_hp            float64\n",
       "engine_cylinders     float64\n",
       "transmission_type     object\n",
       "driven_wheels         object\n",
       "number_of_doors      float64\n",
       "market_category       object\n",
       "vehicle_size          object\n",
       "vehicle_style         object\n",
       "highway_mpg            int64\n",
       "city_mpg               int64\n",
       "popularity             int64\n",
       "msrp                   int64\n",
       "dtype: object"
      ]
     },
     "execution_count": 6,
     "metadata": {},
     "output_type": "execute_result"
    }
   ],
   "source": [
    "car_df.dtypes #data type of every column"
   ]
  },
  {
   "cell_type": "code",
   "execution_count": 7,
   "metadata": {},
   "outputs": [],
   "source": [
    "#similary lowercasing all the rows and replacing space with underscores\n",
    "string_columns = list(car_df.dtypes[car_df.dtypes == 'object'].index)\n",
    "for col in string_columns:\n",
    "    car_df[col] = car_df[col].str.lower().str.replace(' ', '_')"
   ]
  },
  {
   "cell_type": "code",
   "execution_count": 8,
   "metadata": {},
   "outputs": [
    {
     "data": {
      "text/html": [
       "<div>\n",
       "<style scoped>\n",
       "    .dataframe tbody tr th:only-of-type {\n",
       "        vertical-align: middle;\n",
       "    }\n",
       "\n",
       "    .dataframe tbody tr th {\n",
       "        vertical-align: top;\n",
       "    }\n",
       "\n",
       "    .dataframe thead th {\n",
       "        text-align: right;\n",
       "    }\n",
       "</style>\n",
       "<table border=\"1\" class=\"dataframe\">\n",
       "  <thead>\n",
       "    <tr style=\"text-align: right;\">\n",
       "      <th></th>\n",
       "      <th>make</th>\n",
       "      <th>model</th>\n",
       "      <th>year</th>\n",
       "      <th>engine_fuel_type</th>\n",
       "      <th>engine_hp</th>\n",
       "      <th>engine_cylinders</th>\n",
       "      <th>transmission_type</th>\n",
       "      <th>driven_wheels</th>\n",
       "      <th>number_of_doors</th>\n",
       "      <th>market_category</th>\n",
       "      <th>vehicle_size</th>\n",
       "      <th>vehicle_style</th>\n",
       "      <th>highway_mpg</th>\n",
       "      <th>city_mpg</th>\n",
       "      <th>popularity</th>\n",
       "      <th>msrp</th>\n",
       "    </tr>\n",
       "  </thead>\n",
       "  <tbody>\n",
       "    <tr>\n",
       "      <th>3995</th>\n",
       "      <td>gmc</td>\n",
       "      <td>envoy_xl</td>\n",
       "      <td>2005</td>\n",
       "      <td>regular_unleaded</td>\n",
       "      <td>275.0</td>\n",
       "      <td>6.0</td>\n",
       "      <td>automatic</td>\n",
       "      <td>rear_wheel_drive</td>\n",
       "      <td>4.0</td>\n",
       "      <td>NaN</td>\n",
       "      <td>large</td>\n",
       "      <td>4dr_suv</td>\n",
       "      <td>18</td>\n",
       "      <td>13</td>\n",
       "      <td>549</td>\n",
       "      <td>29695</td>\n",
       "    </tr>\n",
       "    <tr>\n",
       "      <th>7474</th>\n",
       "      <td>volkswagen</td>\n",
       "      <td>passat</td>\n",
       "      <td>2016</td>\n",
       "      <td>regular_unleaded</td>\n",
       "      <td>170.0</td>\n",
       "      <td>4.0</td>\n",
       "      <td>automatic</td>\n",
       "      <td>front_wheel_drive</td>\n",
       "      <td>4.0</td>\n",
       "      <td>NaN</td>\n",
       "      <td>midsize</td>\n",
       "      <td>sedan</td>\n",
       "      <td>38</td>\n",
       "      <td>25</td>\n",
       "      <td>873</td>\n",
       "      <td>30495</td>\n",
       "    </tr>\n",
       "    <tr>\n",
       "      <th>7300</th>\n",
       "      <td>honda</td>\n",
       "      <td>odyssey</td>\n",
       "      <td>2016</td>\n",
       "      <td>regular_unleaded</td>\n",
       "      <td>248.0</td>\n",
       "      <td>6.0</td>\n",
       "      <td>automatic</td>\n",
       "      <td>front_wheel_drive</td>\n",
       "      <td>4.0</td>\n",
       "      <td>NaN</td>\n",
       "      <td>large</td>\n",
       "      <td>passenger_minivan</td>\n",
       "      <td>28</td>\n",
       "      <td>19</td>\n",
       "      <td>2202</td>\n",
       "      <td>37650</td>\n",
       "    </tr>\n",
       "    <tr>\n",
       "      <th>3148</th>\n",
       "      <td>chevrolet</td>\n",
       "      <td>cruze</td>\n",
       "      <td>2015</td>\n",
       "      <td>regular_unleaded</td>\n",
       "      <td>138.0</td>\n",
       "      <td>4.0</td>\n",
       "      <td>manual</td>\n",
       "      <td>front_wheel_drive</td>\n",
       "      <td>4.0</td>\n",
       "      <td>NaN</td>\n",
       "      <td>midsize</td>\n",
       "      <td>sedan</td>\n",
       "      <td>36</td>\n",
       "      <td>25</td>\n",
       "      <td>1385</td>\n",
       "      <td>16170</td>\n",
       "    </tr>\n",
       "  </tbody>\n",
       "</table>\n",
       "</div>"
      ],
      "text/plain": [
       "            make     model  year  engine_fuel_type  engine_hp  \\\n",
       "3995         gmc  envoy_xl  2005  regular_unleaded      275.0   \n",
       "7474  volkswagen    passat  2016  regular_unleaded      170.0   \n",
       "7300       honda   odyssey  2016  regular_unleaded      248.0   \n",
       "3148   chevrolet     cruze  2015  regular_unleaded      138.0   \n",
       "\n",
       "      engine_cylinders transmission_type      driven_wheels  number_of_doors  \\\n",
       "3995               6.0         automatic   rear_wheel_drive              4.0   \n",
       "7474               4.0         automatic  front_wheel_drive              4.0   \n",
       "7300               6.0         automatic  front_wheel_drive              4.0   \n",
       "3148               4.0            manual  front_wheel_drive              4.0   \n",
       "\n",
       "     market_category vehicle_size      vehicle_style  highway_mpg  city_mpg  \\\n",
       "3995             NaN        large            4dr_suv           18        13   \n",
       "7474             NaN      midsize              sedan           38        25   \n",
       "7300             NaN        large  passenger_minivan           28        19   \n",
       "3148             NaN      midsize              sedan           36        25   \n",
       "\n",
       "      popularity   msrp  \n",
       "3995         549  29695  \n",
       "7474         873  30495  \n",
       "7300        2202  37650  \n",
       "3148        1385  16170  "
      ]
     },
     "execution_count": 8,
     "metadata": {},
     "output_type": "execute_result"
    }
   ],
   "source": [
    "car_df.sample(4)"
   ]
  },
  {
   "cell_type": "code",
   "execution_count": 9,
   "metadata": {},
   "outputs": [
    {
     "name": "stdout",
     "output_type": "stream",
     "text": [
      "The Numbers of Rows and Columns in this data set are: 11914 rows and 16 columns.\n"
     ]
    }
   ],
   "source": [
    "print(f\"The Numbers of Rows and Columns in this data set are: {car_df.shape[0]} rows and {car_df.shape[1]} columns.\")"
   ]
  },
  {
   "cell_type": "code",
   "execution_count": 10,
   "metadata": {},
   "outputs": [
    {
     "name": "stdout",
     "output_type": "stream",
     "text": [
      "<class 'pandas.core.frame.DataFrame'>\n",
      "RangeIndex: 11914 entries, 0 to 11913\n",
      "Data columns (total 16 columns):\n",
      " #   Column             Non-Null Count  Dtype  \n",
      "---  ------             --------------  -----  \n",
      " 0   make               11914 non-null  object \n",
      " 1   model              11914 non-null  object \n",
      " 2   year               11914 non-null  int64  \n",
      " 3   engine_fuel_type   11911 non-null  object \n",
      " 4   engine_hp          11845 non-null  float64\n",
      " 5   engine_cylinders   11884 non-null  float64\n",
      " 6   transmission_type  11914 non-null  object \n",
      " 7   driven_wheels      11914 non-null  object \n",
      " 8   number_of_doors    11908 non-null  float64\n",
      " 9   market_category    8172 non-null   object \n",
      " 10  vehicle_size       11914 non-null  object \n",
      " 11  vehicle_style      11914 non-null  object \n",
      " 12  highway_mpg        11914 non-null  int64  \n",
      " 13  city_mpg           11914 non-null  int64  \n",
      " 14  popularity         11914 non-null  int64  \n",
      " 15  msrp               11914 non-null  int64  \n",
      "dtypes: float64(3), int64(5), object(8)\n",
      "memory usage: 1.5+ MB\n"
     ]
    }
   ],
   "source": [
    "#Concise Summary of the DataFrame\n",
    "car_df.info()"
   ]
  },
  {
   "cell_type": "code",
   "execution_count": 11,
   "metadata": {},
   "outputs": [
    {
     "data": {
      "text/html": [
       "<div>\n",
       "<style scoped>\n",
       "    .dataframe tbody tr th:only-of-type {\n",
       "        vertical-align: middle;\n",
       "    }\n",
       "\n",
       "    .dataframe tbody tr th {\n",
       "        vertical-align: top;\n",
       "    }\n",
       "\n",
       "    .dataframe thead th {\n",
       "        text-align: right;\n",
       "    }\n",
       "</style>\n",
       "<table border=\"1\" class=\"dataframe\">\n",
       "  <thead>\n",
       "    <tr style=\"text-align: right;\">\n",
       "      <th></th>\n",
       "      <th>count</th>\n",
       "      <th>mean</th>\n",
       "      <th>std</th>\n",
       "      <th>min</th>\n",
       "      <th>25%</th>\n",
       "      <th>50%</th>\n",
       "      <th>75%</th>\n",
       "      <th>max</th>\n",
       "    </tr>\n",
       "  </thead>\n",
       "  <tbody>\n",
       "    <tr>\n",
       "      <th>year</th>\n",
       "      <td>11914.0</td>\n",
       "      <td>2010.384338</td>\n",
       "      <td>7.579740</td>\n",
       "      <td>1990.0</td>\n",
       "      <td>2007.0</td>\n",
       "      <td>2015.0</td>\n",
       "      <td>2016.00</td>\n",
       "      <td>2017.0</td>\n",
       "    </tr>\n",
       "    <tr>\n",
       "      <th>engine_hp</th>\n",
       "      <td>11845.0</td>\n",
       "      <td>249.386070</td>\n",
       "      <td>109.191870</td>\n",
       "      <td>55.0</td>\n",
       "      <td>170.0</td>\n",
       "      <td>227.0</td>\n",
       "      <td>300.00</td>\n",
       "      <td>1001.0</td>\n",
       "    </tr>\n",
       "    <tr>\n",
       "      <th>engine_cylinders</th>\n",
       "      <td>11884.0</td>\n",
       "      <td>5.628829</td>\n",
       "      <td>1.780559</td>\n",
       "      <td>0.0</td>\n",
       "      <td>4.0</td>\n",
       "      <td>6.0</td>\n",
       "      <td>6.00</td>\n",
       "      <td>16.0</td>\n",
       "    </tr>\n",
       "    <tr>\n",
       "      <th>number_of_doors</th>\n",
       "      <td>11908.0</td>\n",
       "      <td>3.436093</td>\n",
       "      <td>0.881315</td>\n",
       "      <td>2.0</td>\n",
       "      <td>2.0</td>\n",
       "      <td>4.0</td>\n",
       "      <td>4.00</td>\n",
       "      <td>4.0</td>\n",
       "    </tr>\n",
       "    <tr>\n",
       "      <th>highway_mpg</th>\n",
       "      <td>11914.0</td>\n",
       "      <td>26.637485</td>\n",
       "      <td>8.863001</td>\n",
       "      <td>12.0</td>\n",
       "      <td>22.0</td>\n",
       "      <td>26.0</td>\n",
       "      <td>30.00</td>\n",
       "      <td>354.0</td>\n",
       "    </tr>\n",
       "    <tr>\n",
       "      <th>city_mpg</th>\n",
       "      <td>11914.0</td>\n",
       "      <td>19.733255</td>\n",
       "      <td>8.987798</td>\n",
       "      <td>7.0</td>\n",
       "      <td>16.0</td>\n",
       "      <td>18.0</td>\n",
       "      <td>22.00</td>\n",
       "      <td>137.0</td>\n",
       "    </tr>\n",
       "    <tr>\n",
       "      <th>popularity</th>\n",
       "      <td>11914.0</td>\n",
       "      <td>1554.911197</td>\n",
       "      <td>1441.855347</td>\n",
       "      <td>2.0</td>\n",
       "      <td>549.0</td>\n",
       "      <td>1385.0</td>\n",
       "      <td>2009.00</td>\n",
       "      <td>5657.0</td>\n",
       "    </tr>\n",
       "    <tr>\n",
       "      <th>msrp</th>\n",
       "      <td>11914.0</td>\n",
       "      <td>40594.737032</td>\n",
       "      <td>60109.103604</td>\n",
       "      <td>2000.0</td>\n",
       "      <td>21000.0</td>\n",
       "      <td>29995.0</td>\n",
       "      <td>42231.25</td>\n",
       "      <td>2065902.0</td>\n",
       "    </tr>\n",
       "  </tbody>\n",
       "</table>\n",
       "</div>"
      ],
      "text/plain": [
       "                    count          mean           std     min      25%  \\\n",
       "year              11914.0   2010.384338      7.579740  1990.0   2007.0   \n",
       "engine_hp         11845.0    249.386070    109.191870    55.0    170.0   \n",
       "engine_cylinders  11884.0      5.628829      1.780559     0.0      4.0   \n",
       "number_of_doors   11908.0      3.436093      0.881315     2.0      2.0   \n",
       "highway_mpg       11914.0     26.637485      8.863001    12.0     22.0   \n",
       "city_mpg          11914.0     19.733255      8.987798     7.0     16.0   \n",
       "popularity        11914.0   1554.911197   1441.855347     2.0    549.0   \n",
       "msrp              11914.0  40594.737032  60109.103604  2000.0  21000.0   \n",
       "\n",
       "                      50%       75%        max  \n",
       "year               2015.0   2016.00     2017.0  \n",
       "engine_hp           227.0    300.00     1001.0  \n",
       "engine_cylinders      6.0      6.00       16.0  \n",
       "number_of_doors       4.0      4.00        4.0  \n",
       "highway_mpg          26.0     30.00      354.0  \n",
       "city_mpg             18.0     22.00      137.0  \n",
       "popularity         1385.0   2009.00     5657.0  \n",
       "msrp              29995.0  42231.25  2065902.0  "
      ]
     },
     "execution_count": 11,
     "metadata": {},
     "output_type": "execute_result"
    }
   ],
   "source": [
    "#Statistical Summary of DataFrame\n",
    "car_df.describe().T"
   ]
  },
  {
   "cell_type": "code",
   "execution_count": 12,
   "metadata": {},
   "outputs": [
    {
     "data": {
      "text/plain": [
       "make                    0\n",
       "model                   0\n",
       "year                    0\n",
       "engine_fuel_type        3\n",
       "engine_hp              69\n",
       "engine_cylinders       30\n",
       "transmission_type       0\n",
       "driven_wheels           0\n",
       "number_of_doors         6\n",
       "market_category      3742\n",
       "vehicle_size            0\n",
       "vehicle_style           0\n",
       "highway_mpg             0\n",
       "city_mpg                0\n",
       "popularity              0\n",
       "msrp                    0\n",
       "dtype: int64"
      ]
     },
     "execution_count": 12,
     "metadata": {},
     "output_type": "execute_result"
    }
   ],
   "source": [
    "#Missing Values\n",
    "car_df.isnull().sum()"
   ]
  },
  {
   "cell_type": "code",
   "execution_count": 13,
   "metadata": {},
   "outputs": [
    {
     "data": {
      "image/png": "[encoded data removed]",
      "text/plain": [
       "<Figure size 360x288 with 1 Axes>"
      ]
     },
     "metadata": {
      "needs_background": "light"
     },
     "output_type": "display_data"
    }
   ],
   "source": [
    "#first step should always be check the distribution of target variable(in my opinion)\n",
    "plt.figure(figsize=(5,4))\n",
    "sns.histplot(car_df['msrp'], bins=30)\n",
    "plt.title(\"Distribution of Prices\")\n",
    "plt.ylabel(\"Counts\")\n",
    "plt.xlabel(\"Price\")\n",
    "plt.show(); \n",
    "#as we have seen that max price is 2065902 so in this graph 1e6 means 10^6\n",
    "#this graph has long tail(imp)"
   ]
  },
  {
   "cell_type": "code",
   "execution_count": 14,
   "metadata": {},
   "outputs": [
    {
     "data": {
      "image/png": "[encoded data removed]",
      "text/plain": [
       "<Figure size 360x288 with 1 Axes>"
      ]
     },
     "metadata": {
      "needs_background": "light"
     },
     "output_type": "display_data"
    }
   ],
   "source": [
    "#zooming the above graph \n",
    "plt.figure(figsize=(5,4))\n",
    "sns.histplot(car_df['msrp'][car_df['msrp'] < 100000], bins=30)\n",
    "plt.title(\"Distribution of Prices\")\n",
    "plt.ylabel(\"Counts\")\n",
    "plt.xlabel(\"Price\")\n",
    "plt.show(); \n",
    "#in this graph the long tail make quite difficult to see distribution.\n",
    "#to solve this problem we have to transform this graph by log transformation"
   ]
  },
  {
   "cell_type": "code",
   "execution_count": 15,
   "metadata": {},
   "outputs": [
    {
     "data": {
      "image/png": "[encoded data removed]",
      "text/plain": [
       "<Figure size 360x288 with 1 Axes>"
      ]
     },
     "metadata": {
      "needs_background": "light"
     },
     "output_type": "display_data"
    }
   ],
   "source": [
    "log_price_plus1 =  np.log1p(car_df['msrp']) #``log(1 + x)``\n",
    "\n",
    "plt.figure(figsize=(5,4))\n",
    "sns.histplot(log_price_plus1, bins=30)\n",
    "plt.title(\"Distribution of Prices after Log tranformation\")\n",
    "plt.ylabel(\"Counts\")\n",
    "plt.xlabel(\"Price\")\n",
    "plt.show(); \n",
    "# +1 part important in cases that have zeroes.\n",
    "#as we can see that there is no longer, long tail is present and now the distribution resembles a bell-shaped curve."
   ]
  },
  {
   "cell_type": "markdown",
   "metadata": {},
   "source": [
    "## Splitting data into Train, Validation and Test Sets\n",
    "\n",
    "`Full DataSet is divided into`:\n",
    "- `20% of data goes to validation`\n",
    "- `20% of data goes to test`\n",
    "- `and remainig 60% goes to train`"
   ]
  },
  {
   "cell_type": "code",
   "execution_count": 16,
   "metadata": {},
   "outputs": [],
   "source": [
    "rows = len(car_df) # No. of Rows in car_df\n",
    "\n",
    "#calculating how many rows shoulg go to train, validation and test\n",
    "val_rows = int(0.2*rows)\n",
    "test_rows = int(0.2*rows)\n",
    "train_rows = rows - (val_rows+test_rows)"
   ]
  },
  {
   "cell_type": "code",
   "execution_count": 17,
   "metadata": {},
   "outputs": [],
   "source": [
    "#creating a numpy array with indices from 0 to n-1 and shuffle it.\n",
    "index = np.arange(rows)\n",
    "np.random.shuffle(index)"
   ]
  },
  {
   "cell_type": "code",
   "execution_count": 18,
   "metadata": {},
   "outputs": [],
   "source": [
    "#using above array with indices to get a shuffled dataframe\n",
    "car_shuffled_df = car_df.iloc[index]\n",
    "\n",
    "#Split the shuffled datafram into train, validation and test\n",
    "car_train_df = car_shuffled_df.iloc[:train_rows].copy()\n",
    "car_val_df = car_shuffled_df.iloc[:val_rows].copy()\n",
    "car_test_df = car_shuffled_df.iloc[:test_rows].copy()"
   ]
  },
  {
   "cell_type": "code",
   "execution_count": 19,
   "metadata": {},
   "outputs": [
    {
     "name": "stdout",
     "output_type": "stream",
     "text": [
      "Training DataSet: \n",
      " ~> Rows: 7150\n",
      " ~> Columns: 16\n",
      "Validation DataSet: \n",
      " ~> Rows: 2382\n",
      " ~> Columns: 16\n",
      "Testing DataSet: \n",
      " ~> Rows: 2382\n",
      " ~> Columns: 16\n"
     ]
    }
   ],
   "source": [
    "print(f\"Training DataSet: \\n ~> Rows: {car_train_df.shape[0]}\\n ~> Columns: {car_train_df.shape[1]}\")\n",
    "print(f\"Validation DataSet: \\n ~> Rows: {car_val_df.shape[0]}\\n ~> Columns: {car_val_df.shape[1]}\")\n",
    "print(f\"Testing DataSet: \\n ~> Rows: {car_test_df.shape[0]}\\n ~> Columns: {car_test_df.shape[1]}\")"
   ]
  },
  {
   "cell_type": "code",
   "execution_count": 20,
   "metadata": {},
   "outputs": [],
   "source": [
    "#from above analysis we have got long tail in distribution of price and to remove its effect, log transformation is used\n",
    "y_train = np.log1p(car_train_df['msrp'].values)\n",
    "y_val = np.log1p(car_val_df['msrp'].values)\n",
    "y_test = np.log1p(car_test_df['msrp'].values)"
   ]
  },
  {
   "cell_type": "code",
   "execution_count": 21,
   "metadata": {},
   "outputs": [],
   "source": [
    "car_train_df.drop(['msrp'], axis=1, inplace=True)\n",
    "car_val_df.drop(['msrp'], axis=1, inplace=True)\n",
    "car_test_df.drop(['msrp'], axis=1, inplace=True)"
   ]
  },
  {
   "cell_type": "code",
   "execution_count": 22,
   "metadata": {},
   "outputs": [
    {
     "data": {
      "text/html": [
       "<div>\n",
       "<style scoped>\n",
       "    .dataframe tbody tr th:only-of-type {\n",
       "        vertical-align: middle;\n",
       "    }\n",
       "\n",
       "    .dataframe tbody tr th {\n",
       "        vertical-align: top;\n",
       "    }\n",
       "\n",
       "    .dataframe thead th {\n",
       "        text-align: right;\n",
       "    }\n",
       "</style>\n",
       "<table border=\"1\" class=\"dataframe\">\n",
       "  <thead>\n",
       "    <tr style=\"text-align: right;\">\n",
       "      <th></th>\n",
       "      <th>make</th>\n",
       "      <th>model</th>\n",
       "      <th>year</th>\n",
       "      <th>engine_fuel_type</th>\n",
       "      <th>engine_hp</th>\n",
       "      <th>engine_cylinders</th>\n",
       "      <th>transmission_type</th>\n",
       "      <th>driven_wheels</th>\n",
       "      <th>number_of_doors</th>\n",
       "      <th>market_category</th>\n",
       "      <th>vehicle_size</th>\n",
       "      <th>vehicle_style</th>\n",
       "      <th>highway_mpg</th>\n",
       "      <th>city_mpg</th>\n",
       "      <th>popularity</th>\n",
       "    </tr>\n",
       "  </thead>\n",
       "  <tbody>\n",
       "    <tr>\n",
       "      <th>3381</th>\n",
       "      <td>mazda</td>\n",
       "      <td>cx-7</td>\n",
       "      <td>2010</td>\n",
       "      <td>premium_unleaded_(recommended)</td>\n",
       "      <td>244.0</td>\n",
       "      <td>4.0</td>\n",
       "      <td>automatic</td>\n",
       "      <td>all_wheel_drive</td>\n",
       "      <td>4.0</td>\n",
       "      <td>crossover</td>\n",
       "      <td>midsize</td>\n",
       "      <td>4dr_suv</td>\n",
       "      <td>23</td>\n",
       "      <td>17</td>\n",
       "      <td>586</td>\n",
       "    </tr>\n",
       "    <tr>\n",
       "      <th>3213</th>\n",
       "      <td>cadillac</td>\n",
       "      <td>cts-v_coupe</td>\n",
       "      <td>2014</td>\n",
       "      <td>premium_unleaded_(required)</td>\n",
       "      <td>556.0</td>\n",
       "      <td>8.0</td>\n",
       "      <td>manual</td>\n",
       "      <td>rear_wheel_drive</td>\n",
       "      <td>2.0</td>\n",
       "      <td>factory_tuner,luxury,high-performance</td>\n",
       "      <td>midsize</td>\n",
       "      <td>coupe</td>\n",
       "      <td>19</td>\n",
       "      <td>14</td>\n",
       "      <td>1624</td>\n",
       "    </tr>\n",
       "    <tr>\n",
       "      <th>11548</th>\n",
       "      <td>scion</td>\n",
       "      <td>xb</td>\n",
       "      <td>2015</td>\n",
       "      <td>regular_unleaded</td>\n",
       "      <td>158.0</td>\n",
       "      <td>4.0</td>\n",
       "      <td>automatic</td>\n",
       "      <td>front_wheel_drive</td>\n",
       "      <td>4.0</td>\n",
       "      <td>NaN</td>\n",
       "      <td>compact</td>\n",
       "      <td>wagon</td>\n",
       "      <td>28</td>\n",
       "      <td>22</td>\n",
       "      <td>105</td>\n",
       "    </tr>\n",
       "    <tr>\n",
       "      <th>3352</th>\n",
       "      <td>mazda</td>\n",
       "      <td>cx-5</td>\n",
       "      <td>2014</td>\n",
       "      <td>regular_unleaded</td>\n",
       "      <td>155.0</td>\n",
       "      <td>4.0</td>\n",
       "      <td>automatic</td>\n",
       "      <td>all_wheel_drive</td>\n",
       "      <td>4.0</td>\n",
       "      <td>crossover</td>\n",
       "      <td>midsize</td>\n",
       "      <td>4dr_suv</td>\n",
       "      <td>31</td>\n",
       "      <td>25</td>\n",
       "      <td>586</td>\n",
       "    </tr>\n",
       "    <tr>\n",
       "      <th>1666</th>\n",
       "      <td>hyundai</td>\n",
       "      <td>azera</td>\n",
       "      <td>2016</td>\n",
       "      <td>regular_unleaded</td>\n",
       "      <td>293.0</td>\n",
       "      <td>6.0</td>\n",
       "      <td>automatic</td>\n",
       "      <td>front_wheel_drive</td>\n",
       "      <td>4.0</td>\n",
       "      <td>performance</td>\n",
       "      <td>midsize</td>\n",
       "      <td>sedan</td>\n",
       "      <td>29</td>\n",
       "      <td>20</td>\n",
       "      <td>1439</td>\n",
       "    </tr>\n",
       "  </tbody>\n",
       "</table>\n",
       "</div>"
      ],
      "text/plain": [
       "           make        model  year                engine_fuel_type  engine_hp  \\\n",
       "3381      mazda         cx-7  2010  premium_unleaded_(recommended)      244.0   \n",
       "3213   cadillac  cts-v_coupe  2014     premium_unleaded_(required)      556.0   \n",
       "11548     scion           xb  2015                regular_unleaded      158.0   \n",
       "3352      mazda         cx-5  2014                regular_unleaded      155.0   \n",
       "1666    hyundai        azera  2016                regular_unleaded      293.0   \n",
       "\n",
       "       engine_cylinders transmission_type      driven_wheels  number_of_doors  \\\n",
       "3381                4.0         automatic    all_wheel_drive              4.0   \n",
       "3213                8.0            manual   rear_wheel_drive              2.0   \n",
       "11548               4.0         automatic  front_wheel_drive              4.0   \n",
       "3352                4.0         automatic    all_wheel_drive              4.0   \n",
       "1666                6.0         automatic  front_wheel_drive              4.0   \n",
       "\n",
       "                             market_category vehicle_size vehicle_style  \\\n",
       "3381                               crossover      midsize       4dr_suv   \n",
       "3213   factory_tuner,luxury,high-performance      midsize         coupe   \n",
       "11548                                    NaN      compact         wagon   \n",
       "3352                               crossover      midsize       4dr_suv   \n",
       "1666                             performance      midsize         sedan   \n",
       "\n",
       "       highway_mpg  city_mpg  popularity  \n",
       "3381            23        17         586  \n",
       "3213            19        14        1624  \n",
       "11548           28        22         105  \n",
       "3352            31        25         586  \n",
       "1666            29        20        1439  "
      ]
     },
     "execution_count": 22,
     "metadata": {},
     "output_type": "execute_result"
    }
   ],
   "source": [
    "car_train_df.head()"
   ]
  },
  {
   "cell_type": "code",
   "execution_count": 23,
   "metadata": {},
   "outputs": [
    {
     "data": {
      "text/html": [
       "<div>\n",
       "<style scoped>\n",
       "    .dataframe tbody tr th:only-of-type {\n",
       "        vertical-align: middle;\n",
       "    }\n",
       "\n",
       "    .dataframe tbody tr th {\n",
       "        vertical-align: top;\n",
       "    }\n",
       "\n",
       "    .dataframe thead th {\n",
       "        text-align: right;\n",
       "    }\n",
       "</style>\n",
       "<table border=\"1\" class=\"dataframe\">\n",
       "  <thead>\n",
       "    <tr style=\"text-align: right;\">\n",
       "      <th></th>\n",
       "      <th>make</th>\n",
       "      <th>model</th>\n",
       "      <th>year</th>\n",
       "      <th>engine_fuel_type</th>\n",
       "      <th>engine_hp</th>\n",
       "      <th>engine_cylinders</th>\n",
       "      <th>transmission_type</th>\n",
       "      <th>driven_wheels</th>\n",
       "      <th>number_of_doors</th>\n",
       "      <th>market_category</th>\n",
       "      <th>vehicle_size</th>\n",
       "      <th>vehicle_style</th>\n",
       "      <th>highway_mpg</th>\n",
       "      <th>city_mpg</th>\n",
       "      <th>popularity</th>\n",
       "    </tr>\n",
       "  </thead>\n",
       "  <tbody>\n",
       "    <tr>\n",
       "      <th>3381</th>\n",
       "      <td>mazda</td>\n",
       "      <td>cx-7</td>\n",
       "      <td>2010</td>\n",
       "      <td>premium_unleaded_(recommended)</td>\n",
       "      <td>244.0</td>\n",
       "      <td>4.0</td>\n",
       "      <td>automatic</td>\n",
       "      <td>all_wheel_drive</td>\n",
       "      <td>4.0</td>\n",
       "      <td>crossover</td>\n",
       "      <td>midsize</td>\n",
       "      <td>4dr_suv</td>\n",
       "      <td>23</td>\n",
       "      <td>17</td>\n",
       "      <td>586</td>\n",
       "    </tr>\n",
       "    <tr>\n",
       "      <th>3213</th>\n",
       "      <td>cadillac</td>\n",
       "      <td>cts-v_coupe</td>\n",
       "      <td>2014</td>\n",
       "      <td>premium_unleaded_(required)</td>\n",
       "      <td>556.0</td>\n",
       "      <td>8.0</td>\n",
       "      <td>manual</td>\n",
       "      <td>rear_wheel_drive</td>\n",
       "      <td>2.0</td>\n",
       "      <td>factory_tuner,luxury,high-performance</td>\n",
       "      <td>midsize</td>\n",
       "      <td>coupe</td>\n",
       "      <td>19</td>\n",
       "      <td>14</td>\n",
       "      <td>1624</td>\n",
       "    </tr>\n",
       "    <tr>\n",
       "      <th>11548</th>\n",
       "      <td>scion</td>\n",
       "      <td>xb</td>\n",
       "      <td>2015</td>\n",
       "      <td>regular_unleaded</td>\n",
       "      <td>158.0</td>\n",
       "      <td>4.0</td>\n",
       "      <td>automatic</td>\n",
       "      <td>front_wheel_drive</td>\n",
       "      <td>4.0</td>\n",
       "      <td>NaN</td>\n",
       "      <td>compact</td>\n",
       "      <td>wagon</td>\n",
       "      <td>28</td>\n",
       "      <td>22</td>\n",
       "      <td>105</td>\n",
       "    </tr>\n",
       "    <tr>\n",
       "      <th>3352</th>\n",
       "      <td>mazda</td>\n",
       "      <td>cx-5</td>\n",
       "      <td>2014</td>\n",
       "      <td>regular_unleaded</td>\n",
       "      <td>155.0</td>\n",
       "      <td>4.0</td>\n",
       "      <td>automatic</td>\n",
       "      <td>all_wheel_drive</td>\n",
       "      <td>4.0</td>\n",
       "      <td>crossover</td>\n",
       "      <td>midsize</td>\n",
       "      <td>4dr_suv</td>\n",
       "      <td>31</td>\n",
       "      <td>25</td>\n",
       "      <td>586</td>\n",
       "    </tr>\n",
       "    <tr>\n",
       "      <th>1666</th>\n",
       "      <td>hyundai</td>\n",
       "      <td>azera</td>\n",
       "      <td>2016</td>\n",
       "      <td>regular_unleaded</td>\n",
       "      <td>293.0</td>\n",
       "      <td>6.0</td>\n",
       "      <td>automatic</td>\n",
       "      <td>front_wheel_drive</td>\n",
       "      <td>4.0</td>\n",
       "      <td>performance</td>\n",
       "      <td>midsize</td>\n",
       "      <td>sedan</td>\n",
       "      <td>29</td>\n",
       "      <td>20</td>\n",
       "      <td>1439</td>\n",
       "    </tr>\n",
       "  </tbody>\n",
       "</table>\n",
       "</div>"
      ],
      "text/plain": [
       "           make        model  year                engine_fuel_type  engine_hp  \\\n",
       "3381      mazda         cx-7  2010  premium_unleaded_(recommended)      244.0   \n",
       "3213   cadillac  cts-v_coupe  2014     premium_unleaded_(required)      556.0   \n",
       "11548     scion           xb  2015                regular_unleaded      158.0   \n",
       "3352      mazda         cx-5  2014                regular_unleaded      155.0   \n",
       "1666    hyundai        azera  2016                regular_unleaded      293.0   \n",
       "\n",
       "       engine_cylinders transmission_type      driven_wheels  number_of_doors  \\\n",
       "3381                4.0         automatic    all_wheel_drive              4.0   \n",
       "3213                8.0            manual   rear_wheel_drive              2.0   \n",
       "11548               4.0         automatic  front_wheel_drive              4.0   \n",
       "3352                4.0         automatic    all_wheel_drive              4.0   \n",
       "1666                6.0         automatic  front_wheel_drive              4.0   \n",
       "\n",
       "                             market_category vehicle_size vehicle_style  \\\n",
       "3381                               crossover      midsize       4dr_suv   \n",
       "3213   factory_tuner,luxury,high-performance      midsize         coupe   \n",
       "11548                                    NaN      compact         wagon   \n",
       "3352                               crossover      midsize       4dr_suv   \n",
       "1666                             performance      midsize         sedan   \n",
       "\n",
       "       highway_mpg  city_mpg  popularity  \n",
       "3381            23        17         586  \n",
       "3213            19        14        1624  \n",
       "11548           28        22         105  \n",
       "3352            31        25         586  \n",
       "1666            29        20        1439  "
      ]
     },
     "execution_count": 23,
     "metadata": {},
     "output_type": "execute_result"
    }
   ],
   "source": [
    "car_val_df.head()"
   ]
  },
  {
   "cell_type": "markdown",
   "metadata": {},
   "source": [
    "## Linear Regression:"
   ]
  },
  {
   "cell_type": "code",
   "execution_count": 24,
   "metadata": {},
   "outputs": [],
   "source": [
    "#linear regression implemented with Numpy\n",
    "def linear_regression(X, y):\n",
    "    \"\"\"\n",
    "    This function is for implementation of Linear regression.\n",
    "    X = it is matrix(features).\n",
    "    y = it is a vector(target).\n",
    "    \"\"\"\n",
    "    ones = np.ones(X.shape[0]) #creating an array that contains only 1s.\n",
    "    X = np.column_stack([ones, X]) #adding the array of 1's as the column of X\n",
    "    #normal equation formula\n",
    "    XTX = X.T.dot(X) \n",
    "    XTX_inv = np.linalg.inv(XTX) #inverse of XTX\n",
    "    w = XTX_inv.dot(X.T).dot(y) #computing the rest of the normal equation\n",
    "    \n",
    "    return w[0], w[1:] #spliting the weight vector into the bias and the rest of the weights "
   ]
  },
  {
   "cell_type": "markdown",
   "metadata": {},
   "source": [
    "### Naive solution"
   ]
  },
  {
   "cell_type": "code",
   "execution_count": 25,
   "metadata": {},
   "outputs": [],
   "source": [
    "naive_features = ['engine_hp', 'engine_cylinders', 'highway_mpg', 'city_mpg', 'popularity']"
   ]
  },
  {
   "cell_type": "code",
   "execution_count": 26,
   "metadata": {},
   "outputs": [],
   "source": [
    "def preparing_X(df):\n",
    "    \"\"\"\n",
    "    This function is used to replace all Nan to 0 and assign the values to variable X.\n",
    "    \"\"\"\n",
    "    df_num = df[naive_features]\n",
    "    df_num = df_num.fillna(0)\n",
    "    X = df_num.values\n",
    "    return X"
   ]
  },
  {
   "cell_type": "code",
   "execution_count": 27,
   "metadata": {},
   "outputs": [],
   "source": [
    "naive_X_train = preparing_X(car_train_df)\n",
    "\n",
    "w_0, w = linear_regression(naive_X_train, y_train) #training the model\n",
    "y_pred = w_0 + naive_X_train.dot(w) #predicting "
   ]
  },
  {
   "cell_type": "code",
   "execution_count": 28,
   "metadata": {},
   "outputs": [
    {
     "data": {
      "image/png": "[encoded data removed]",
      "text/plain": [
       "<Figure size 360x288 with 1 Axes>"
      ]
     },
     "metadata": {
      "needs_background": "light"
     },
     "output_type": "display_data"
    }
   ],
   "source": [
    "#let see the how good was the prediction\n",
    "plt.figure(figsize=(5,4))\n",
    "\n",
    "sns.histplot(y_train, label='target', color='black',bins=30)\n",
    "sns.histplot(y_pred, label='prediction',color='red', bins=30)\n",
    "plt.legend()\n",
    "plt.xlabel('log(1+price)')\n",
    "plt.ylabel('Count')\n",
    "plt.title('Predictions vs Actual Distribution')\n",
    "\n",
    "plt.show();\n",
    "#from the graph it clear that the prediction aren't good enough."
   ]
  },
  {
   "cell_type": "code",
   "execution_count": 29,
   "metadata": {},
   "outputs": [],
   "source": [
    "#perfomace metric RMSE(root mean square error)\n",
    "def rmse(y, y_pred):\n",
    "    error = y_pred - y\n",
    "    mse = (error**2).mean()\n",
    "    return np.sqrt(mse)"
   ]
  },
  {
   "cell_type": "code",
   "execution_count": 30,
   "metadata": {},
   "outputs": [
    {
     "name": "stdout",
     "output_type": "stream",
     "text": [
      "RSME for training is: 0.7629\n",
      "RSME for validation is: 0.754\n"
     ]
    }
   ],
   "source": [
    "print(f\"RSME for training is: {round(rmse(y_train, y_pred), 4)}\")\n",
    "\n",
    "# Validating the model\n",
    "X_val = preparing_X(car_val_df)\n",
    "y_val_pred = w_0 + X_val.dot(w)\n",
    "\n",
    "print(f\"RSME for validation is: {round(rmse(y_val, y_val_pred), 4)}\")"
   ]
  },
  {
   "cell_type": "code",
   "execution_count": 31,
   "metadata": {},
   "outputs": [],
   "source": [
    "def preparing_X(df):\n",
    "    \"\"\"\n",
    "    trying some features engineering, here I'm adding age column which is:\n",
    "    age = 2017 - year(from main dataframe) \n",
    "    then appending this into features.\n",
    "    \"\"\"\n",
    "    df = df.copy()\n",
    "    features = naive_features.copy()\n",
    "    \n",
    "    df['age'] = 2017 - df['year']\n",
    "    features.append('age')\n",
    "    \n",
    "    df_num = df[features]\n",
    "    df_num = df_num.fillna(0)\n",
    "    X = df_num.values\n",
    "    return X"
   ]
  },
  {
   "cell_type": "code",
   "execution_count": 32,
   "metadata": {},
   "outputs": [
    {
     "name": "stdout",
     "output_type": "stream",
     "text": [
      "RSME for training is: 0.5178\n",
      "RSME for validation is: 0.5084\n"
     ]
    }
   ],
   "source": [
    "X_train = preparing_X(car_train_df)\n",
    "w_0, w = linear_regression(X_train, y_train) #training the model\n",
    "y_pred = w_0 + X_train.dot(w) #predicting \n",
    "\n",
    "print(f\"RSME for training is: {round(rmse(y_train, y_pred), 4)}\")\n",
    "\n",
    "# Validating the model\n",
    "X_val = preparing_X(car_val_df)\n",
    "y_val_pred = w_0 + X_val.dot(w)\n",
    "print(f\"RSME for validation is: {round(rmse(y_val, y_val_pred), 4)}\")"
   ]
  },
  {
   "cell_type": "code",
   "execution_count": 33,
   "metadata": {},
   "outputs": [
    {
     "data": {
      "image/png": "[encoded data removed]",
      "text/plain": [
       "<Figure size 360x288 with 1 Axes>"
      ]
     },
     "metadata": {
      "needs_background": "light"
     },
     "output_type": "display_data"
    }
   ],
   "source": [
    "#let see the how good was the prediction\n",
    "plt.figure(figsize=(5,4))\n",
    "\n",
    "sns.histplot(y_train, label='target', color='black',bins=30)\n",
    "sns.histplot(y_pred, label='prediction',color='red', bins=30)\n",
    "plt.legend()\n",
    "plt.xlabel('log(1+price)')\n",
    "plt.ylabel('Count')\n",
    "plt.title('Predictions vs Actual Distribution')\n",
    "\n",
    "plt.show();\n",
    "#with new features, the model follows the orginial distribution closer than previously"
   ]
  },
  {
   "cell_type": "code",
   "execution_count": 34,
   "metadata": {},
   "outputs": [
    {
     "data": {
      "text/plain": [
       "4.0    8353\n",
       "2.0    3160\n",
       "3.0     395\n",
       "Name: number_of_doors, dtype: int64"
      ]
     },
     "execution_count": 34,
     "metadata": {},
     "output_type": "execute_result"
    }
   ],
   "source": [
    "car_df['number_of_doors'].value_counts()"
   ]
  },
  {
   "cell_type": "code",
   "execution_count": 35,
   "metadata": {},
   "outputs": [
    {
     "data": {
      "text/plain": [
       "chevrolet     1123\n",
       "ford           881\n",
       "volkswagen     809\n",
       "toyota         746\n",
       "dodge          626\n",
       "Name: make, dtype: int64"
      ]
     },
     "execution_count": 35,
     "metadata": {},
     "output_type": "execute_result"
    }
   ],
   "source": [
    "car_df['make'].value_counts().head()"
   ]
  },
  {
   "cell_type": "code",
   "execution_count": 36,
   "metadata": {},
   "outputs": [
    {
     "data": {
      "text/plain": [
       "regular_unleaded                  7172\n",
       "premium_unleaded_(required)       2009\n",
       "premium_unleaded_(recommended)    1523\n",
       "flex-fuel_(unleaded/e85)           899\n",
       "diesel                             154\n",
       "Name: engine_fuel_type, dtype: int64"
      ]
     },
     "execution_count": 36,
     "metadata": {},
     "output_type": "execute_result"
    }
   ],
   "source": [
    "car_df['engine_fuel_type'].value_counts().head()"
   ]
  },
  {
   "cell_type": "code",
   "execution_count": 37,
   "metadata": {},
   "outputs": [],
   "source": [
    "def preparing_X(df):\n",
    "    \"\"\"\n",
    "    Trying some more simple feature engineering.\n",
    "    \"\"\"\n",
    "    df = df.copy()\n",
    "    features = naive_features.copy()\n",
    "    \n",
    "    df['age'] = 2017 - df['year']\n",
    "    features.append('age')\n",
    "    \n",
    "    for index in ['chevrolet', 'ford', 'volkswagen', 'toyota', 'dodge']:\n",
    "        feature = 'is_make_%s' % index #giving a meaning full name\n",
    "        #creating the one hot encoding feature and adding the feature back to dataframe\n",
    "        df[feature] = (df['make'] == index).astype(int)\n",
    "        features.append(feature)\n",
    "        \n",
    "    for index in ['regular_unleaded', 'premium_unleaded_(required)', \n",
    "              'premium_unleaded_(recommended)', 'flex-fuel_(unleaded/e85)', 'diesel']:\n",
    "        feature = 'is_type_%s' % index\n",
    "        df[feature] = (df['engine_fuel_type'] == index).astype(int)\n",
    "        features.append(feature)\n",
    "    \n",
    "    for index in [2, 3, 4]: \n",
    "        feature = 'num_doors_%s' % index \n",
    "        df[feature] = (df['number_of_doors'] == index).astype(int) \n",
    "        features.append(feature)\n",
    "\n",
    "    df_num = df[features]\n",
    "    df_num = df_num.fillna(0)\n",
    "    X = df_num.values\n",
    "    return X"
   ]
  },
  {
   "cell_type": "code",
   "execution_count": 38,
   "metadata": {},
   "outputs": [
    {
     "name": "stdout",
     "output_type": "stream",
     "text": [
      "RSME for training is: 0.4751\n",
      "RSME for validation is: 0.4692\n"
     ]
    }
   ],
   "source": [
    "X_train = preparing_X(car_train_df)\n",
    "w_0, w = linear_regression(X_train, y_train) #training the model\n",
    "y_pred = w_0 + X_train.dot(w) #predicting \n",
    "\n",
    "print(f\"RSME for training is: {round(rmse(y_train, y_pred), 4)}\")\n",
    "\n",
    "# Validating the model\n",
    "X_val = preparing_X(car_val_df)\n",
    "y_val_pred = w_0 + X_val.dot(w)\n",
    "print(f\"RSME for validation is: {round(rmse(y_val, y_val_pred), 4)}\")"
   ]
  },
  {
   "cell_type": "code",
   "execution_count": 39,
   "metadata": {},
   "outputs": [
    {
     "data": {
      "image/png": "[encoded data removed]",
      "text/plain": [
       "<Figure size 360x288 with 1 Axes>"
      ]
     },
     "metadata": {
      "needs_background": "light"
     },
     "output_type": "display_data"
    }
   ],
   "source": [
    "#let see the how good was the prediction\n",
    "plt.figure(figsize=(5,4))\n",
    "\n",
    "sns.histplot(y_train, label='target', color='black',bins=30)\n",
    "sns.histplot(y_pred, label='prediction',color='red', bins=30)\n",
    "plt.legend()\n",
    "plt.xlabel('log(1+price)')\n",
    "plt.ylabel('Count')\n",
    "plt.title('Predictions vs Actual Distribution')\n",
    "\n",
    "plt.show();\n",
    "#with new features, the model follows the orginial distribution closer than previously"
   ]
  },
  {
   "cell_type": "code",
   "execution_count": 40,
   "metadata": {},
   "outputs": [
    {
     "data": {
      "text/plain": [
       "Index(['make', 'model', 'year', 'engine_fuel_type', 'engine_hp',\n",
       "       'engine_cylinders', 'transmission_type', 'driven_wheels',\n",
       "       'number_of_doors', 'market_category', 'vehicle_size', 'vehicle_style',\n",
       "       'highway_mpg', 'city_mpg', 'popularity', 'msrp'],\n",
       "      dtype='object')"
      ]
     },
     "execution_count": 40,
     "metadata": {},
     "output_type": "execute_result"
    }
   ],
   "source": [
    "car_df.columns"
   ]
  },
  {
   "cell_type": "code",
   "execution_count": 41,
   "metadata": {},
   "outputs": [
    {
     "data": {
      "text/plain": [
       "['engine_hp', 'engine_cylinders', 'highway_mpg', 'city_mpg', 'popularity']"
      ]
     },
     "execution_count": 41,
     "metadata": {},
     "output_type": "execute_result"
    }
   ],
   "source": [
    "naive_features"
   ]
  },
  {
   "cell_type": "code",
   "execution_count": 42,
   "metadata": {},
   "outputs": [
    {
     "data": {
      "text/plain": [
       "automatic           8266\n",
       "manual              2935\n",
       "automated_manual     626\n",
       "direct_drive          68\n",
       "unknown               19\n",
       "Name: transmission_type, dtype: int64"
      ]
     },
     "execution_count": 42,
     "metadata": {},
     "output_type": "execute_result"
    }
   ],
   "source": [
    "car_df['transmission_type'].value_counts()"
   ]
  },
  {
   "cell_type": "code",
   "execution_count": 43,
   "metadata": {},
   "outputs": [
    {
     "data": {
      "text/plain": [
       "front_wheel_drive    4787\n",
       "rear_wheel_drive     3371\n",
       "all_wheel_drive      2353\n",
       "four_wheel_drive     1403\n",
       "Name: driven_wheels, dtype: int64"
      ]
     },
     "execution_count": 43,
     "metadata": {},
     "output_type": "execute_result"
    }
   ],
   "source": [
    "car_df['driven_wheels'].value_counts()"
   ]
  },
  {
   "cell_type": "code",
   "execution_count": 44,
   "metadata": {},
   "outputs": [
    {
     "data": {
      "text/plain": [
       "crossover             1110\n",
       "flex_fuel              872\n",
       "luxury                 855\n",
       "luxury,performance     673\n",
       "Name: market_category, dtype: int64"
      ]
     },
     "execution_count": 44,
     "metadata": {},
     "output_type": "execute_result"
    }
   ],
   "source": [
    "car_df['market_category'].value_counts().head(4)"
   ]
  },
  {
   "cell_type": "code",
   "execution_count": 45,
   "metadata": {},
   "outputs": [
    {
     "data": {
      "text/plain": [
       "compact    4764\n",
       "midsize    4373\n",
       "large      2777\n",
       "Name: vehicle_size, dtype: int64"
      ]
     },
     "execution_count": 45,
     "metadata": {},
     "output_type": "execute_result"
    }
   ],
   "source": [
    "car_df['vehicle_size'].value_counts()"
   ]
  },
  {
   "cell_type": "code",
   "execution_count": 46,
   "metadata": {},
   "outputs": [
    {
     "data": {
      "text/plain": [
       "sedan          3048\n",
       "4dr_suv        2488\n",
       "coupe          1211\n",
       "convertible     793\n",
       "Name: vehicle_style, dtype: int64"
      ]
     },
     "execution_count": 46,
     "metadata": {},
     "output_type": "execute_result"
    }
   ],
   "source": [
    "car_df['vehicle_style'].value_counts().head(4)"
   ]
  },
  {
   "cell_type": "code",
   "execution_count": 47,
   "metadata": {},
   "outputs": [],
   "source": [
    "def preparing_X(df):\n",
    "    \"\"\"\n",
    "    Trying some more simple feature engineering.\n",
    "    \"\"\"\n",
    "    df = df.copy()\n",
    "    features = naive_features.copy()\n",
    "    \n",
    "    df['age'] = 2017 - df['year']\n",
    "    features.append('age')\n",
    "    \n",
    "    for index in ['chevrolet', 'ford', 'volkswagen', 'toyota']:\n",
    "        feature = 'is_make_%s' % index #giving a meaning full name\n",
    "        #creating the one hot encoding feature and adding the feature back to dataframe\n",
    "        df[feature] = (df['make'] == index).astype(int)\n",
    "        features.append(feature)\n",
    "        \n",
    "    for index in ['regular_unleaded', 'premium_unleaded_(required)',\n",
    "                  'premium_unleaded_(recommended)', 'flex-fuel_(unleaded/e85)']:\n",
    "        feature = 'is_type_%s' % index\n",
    "        df[feature] = (df['engine_fuel_type'] == index).astype(int)\n",
    "        features.append(feature)\n",
    "    \n",
    "    for index in ['automatic', 'manual', 'automated_manual', 'direct_drive']:\n",
    "        feature = 'is_tranmission_%s' % index\n",
    "        df[feature] = (df['transmission_type'] == index).astype(int)\n",
    "        features.append(feature)\n",
    "    \n",
    "#     for index in ['front_wheel_drive', 'rear_wheel_drive', 'all_wheel_drive', 'four_wheel_drive']:\n",
    "#         feature = 'is_driven_wheel_%s' % index\n",
    "#         df[feature] = (df['driven_wheels'] == index).astype(int)\n",
    "#         features.append(feature)\n",
    "    \n",
    "    for index in ['crossover', 'flex_fuel', 'luxury', 'luxury,performance']:\n",
    "        feature = 'is_market_category_%s' % index\n",
    "        df[feature] = (df['market_category'] == index).astype(int)\n",
    "        features.append(feature)\n",
    "    \n",
    "#     for index in ['compact', 'midsize', 'large']:\n",
    "#         feature = 'is_vehicle_size_%s' % index\n",
    "#         df[feature] = (df['vehicle_size'] == index).astype(int)\n",
    "#         features.append(feature)\n",
    "    \n",
    "    \n",
    "#     this features give LinAlgError which means it is not possible to find an inverse for this matrix.\n",
    "#     If we try to invert a singular matrix, Numpy will raise an error which is LinAlgError: Singular Matrix\n",
    "#     this also happens in features which are multiple of each other by some constant(imp) or prefect linear combination\n",
    "#     for index in ['sedan', 'dr_suv', 'coupe', 'convertible']:\n",
    "#         feature = 'is_vehicle_style_%s' % index\n",
    "#         df[feature] = (df['vehicle_style'] == index).astype(int)\n",
    "#         features.append(feature)\n",
    "\n",
    "    for index in [2, 3, 4]: \n",
    "        feature = 'num_doors_%s' % index \n",
    "        df[feature] = (df['number_of_doors'] == index).astype(int) \n",
    "        features.append(feature)\n",
    "\n",
    "    df_num = df[features]\n",
    "    df_num = df_num.fillna(0)\n",
    "    X = df_num.values\n",
    "    return X\n",
    "\n",
    "#all the commented features are not useful"
   ]
  },
  {
   "cell_type": "code",
   "execution_count": 48,
   "metadata": {},
   "outputs": [
    {
     "name": "stdout",
     "output_type": "stream",
     "text": [
      "RSME for training is: 0.4666\n",
      "RSME for validation is: 0.4566\n"
     ]
    }
   ],
   "source": [
    "X_train = preparing_X(car_train_df)\n",
    "w_0, w = linear_regression(X_train, y_train) #training the model\n",
    "y_pred = w_0 + X_train.dot(w) #predicting \n",
    "\n",
    "print(f\"RSME for training is: {round(rmse(y_train, y_pred), 4)}\")\n",
    "\n",
    "# Validating the model\n",
    "X_val = preparing_X(car_val_df)\n",
    "y_val_pred = w_0 + X_val.dot(w)\n",
    "print(f\"RSME for validation is: {round(rmse(y_val, y_val_pred), 4)}\")"
   ]
  },
  {
   "cell_type": "code",
   "execution_count": 49,
   "metadata": {},
   "outputs": [
    {
     "data": {
      "image/png": "[encoded data removed]",
      "text/plain": [
       "<Figure size 360x288 with 1 Axes>"
      ]
     },
     "metadata": {
      "needs_background": "light"
     },
     "output_type": "display_data"
    }
   ],
   "source": [
    "#let see the how good was the prediction\n",
    "plt.figure(figsize=(5,4))\n",
    "\n",
    "sns.histplot(y_train, label='target', color='black',bins=30)\n",
    "sns.histplot(y_pred, label='prediction',color='red', bins=30)\n",
    "plt.legend()\n",
    "plt.xlabel('log(1+price)')\n",
    "plt.ylabel('Count')\n",
    "plt.title('Predictions vs Actual Distribution')\n",
    "\n",
    "plt.show();\n",
    "#with new features, the model follows the orginial distribution closer than previously"
   ]
  },
  {
   "cell_type": "markdown",
   "metadata": {},
   "source": [
    "# Regularization\n",
    "\n",
    "- `Regularized Linear Regression is often called Ridge Regression`."
   ]
  },
  {
   "cell_type": "code",
   "execution_count": 50,
   "metadata": {},
   "outputs": [],
   "source": [
    "def linear_regression_reg(X, y, r=0.0):\n",
    "    \"\"\"\n",
    "    This function is for implementation of Regularized Linear regression.\n",
    "    \"\"\"\n",
    "    ones = np.ones(X.shape[0])\n",
    "    X = np.column_stack([ones, X])\n",
    "    \n",
    "    XTX = X.T.dot(X)\n",
    "    reg = r*np.eye(XTX.shape[0]) \n",
    "    #adding r to the main diagonal of XTX\n",
    "    XTX = XTX + reg\n",
    "    \n",
    "    XTX_inv = np.linalg.inv(XTX)\n",
    "    w = XTX_inv.dot(X.T).dot(y)\n",
    "    \n",
    "    return w[0], w[1:]"
   ]
  },
  {
   "cell_type": "code",
   "execution_count": 51,
   "metadata": {},
   "outputs": [],
   "source": [
    "X_train = preparing_X(car_train_df)"
   ]
  },
  {
   "cell_type": "code",
   "execution_count": 52,
   "metadata": {},
   "outputs": [
    {
     "name": "stdout",
     "output_type": "stream",
     "text": [
      "RSME for training when r = 0 is: 0.466559\n",
      "RSME for validation when r = 0 is: 0.456635\n",
      "---------------\n",
      "RSME for training when r = 0.001 is: 0.466559\n",
      "RSME for validation when r = 0.001 is: 0.456634\n",
      "---------------\n",
      "RSME for training when r = 0.01 is: 0.466559\n",
      "RSME for validation when r = 0.01 is: 0.456634\n",
      "---------------\n",
      "RSME for training when r = 0.1 is: 0.46662\n",
      "RSME for validation when r = 0.1 is: 0.456712\n",
      "---------------\n",
      "RSME for training when r = 1 is: 0.468462\n",
      "RSME for validation when r = 1 is: 0.459398\n",
      "---------------\n",
      "RSME for training when r = 10 is: 0.488222\n",
      "RSME for validation when r = 10 is: 0.482009\n",
      "---------------\n"
     ]
    }
   ],
   "source": [
    "for r in [0, 0.001, 0.01, 0.1, 1, 10]:\n",
    "    w_0, w = linear_regression_reg(X_train, y_train, r=r)\n",
    "    y_pred = w_0 + X_train.dot(w) #predicting \n",
    "    print(f\"RSME for training when r = {r} is: {round(rmse(y_train, y_pred), 6)}\")\n",
    "    # Validating the model\n",
    "    X_val = preparing_X(car_val_df)\n",
    "    y_val_pred = w_0 + X_val.dot(w)\n",
    "    print(f\"RSME for validation when r = {r} is: {round(rmse(y_val, y_val_pred), 6)}\")\n",
    "    print('-'*15)"
   ]
  },
  {
   "cell_type": "code",
   "execution_count": 53,
   "metadata": {},
   "outputs": [
    {
     "name": "stdout",
     "output_type": "stream",
     "text": [
      "RSME for training when r = 1e-06 is: 0.466559\n",
      "RSME for validation when r = 1e-06 is: 0.456635\n",
      "---------------\n",
      "RSME for training when r = 0.0001 is: 0.466559\n",
      "RSME for validation when r = 0.0001 is: 0.456635\n",
      "---------------\n",
      "RSME for training when r = 0.001 is: 0.466559\n",
      "RSME for validation when r = 0.001 is: 0.456634\n",
      "---------------\n",
      "RSME for training when r = 0.01 is: 0.466559\n",
      "RSME for validation when r = 0.01 is: 0.456634\n",
      "---------------\n",
      "RSME for training when r = 0.1 is: 0.46662\n",
      "RSME for validation when r = 0.1 is: 0.456712\n",
      "---------------\n",
      "RSME for training when r = 1 is: 0.468462\n",
      "RSME for validation when r = 1 is: 0.459398\n",
      "---------------\n",
      "RSME for training when r = 5 is: 0.476843\n",
      "RSME for validation when r = 5 is: 0.469861\n",
      "---------------\n",
      "RSME for training when r = 10 is: 0.488222\n",
      "RSME for validation when r = 10 is: 0.482009\n",
      "---------------\n"
     ]
    }
   ],
   "source": [
    "for r in [0.000001, 0.0001, 0.001, 0.01, 0.1, 1, 5, 10]:\n",
    "    w_0, w = linear_regression_reg(X_train, y_train, r=r)\n",
    "    y_pred = w_0 + X_train.dot(w) #predicting \n",
    "    print(f\"RSME for training when r = {r} is: {round(rmse(y_train, y_pred), 6)}\")\n",
    "    # Validating the model\n",
    "    X_val = preparing_X(car_val_df)\n",
    "    y_val_pred = w_0 + X_val.dot(w)\n",
    "    print(f\"RSME for validation when r = {r} is: {round(rmse(y_val, y_val_pred), 6)}\")\n",
    "    print('-'*15)"
   ]
  }
 ],
 "metadata": {
  "kernelspec": {
   "display_name": "Python 3",
   "language": "python",
   "name": "python3"
  },
  "language_info": {
   "codemirror_mode": {
    "name": "ipython",
    "version": 3
   },
   "file_extension": ".py",
   "mimetype": "text/x-python",
   "name": "python",
   "nbconvert_exporter": "python",
   "pygments_lexer": "ipython3",
   "version": "3.7.10"
  }
 },
 "nbformat": 4,
 "nbformat_minor": 4
}
