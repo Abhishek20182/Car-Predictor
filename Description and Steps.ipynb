{
 "cells": [
  {
   "cell_type": "markdown",
   "id": "e1e12cf6",
   "metadata": {},
   "source": [
    "# Car Features and MSRP Dataet\n",
    "\n",
    "- `Number of Instances`: **11914**\n",
    "- `Number of Attributes`: **16**\n",
    "- `Attributes`(Description of Attributes, according to me which I got from dicussions and Google beacuse it was not given in the https://www.kaggle.com/CooperUnion/cardataset page): \n",
    "  - `Make`: Make of a car(BMW, Volkswagen and so on)\n",
    "  - `Model`: Model of a car\n",
    "  - `Year`: Year when the car was manufactured\n",
    "  - `Engine Fuel Type`: Type of fuel engine needs(disel and so on)\n",
    "  - `Engine HP`: Horsepower of engine\n",
    "  - `Engine Cylinders`: Number of cylinders in engine\n",
    "  - `Transmission Type`: Type of transmission(automatic or manual)\n",
    "  - `Driven Wheels`: front, rear, all\n",
    "  - `Number of Doors`: Number of doors a car has\n",
    "  - `Market Category`: luxury, crossover and so on\n",
    "  - `Vehicle Size`: compact, midsize, large\n",
    "  - `Vehicle Style`: Style of vehicle(sedan, convertible and so on)\n",
    "  - `Highway MPG`: miles per gallon(MPG) in highway\n",
    "  - `City MPG`: miles per gallon(MPG) in city\n",
    "  - `Popularity`: Number of times the car was mentioned in a Twitter stream\n",
    "  - `MSRP`: Manufacturer's Suggested Retail Price"
   ]
  },
  {
   "cell_type": "markdown",
   "id": "28b040c2",
   "metadata": {},
   "source": [
    "# General Steps:"
   ]
  },
  {
   "cell_type": "markdown",
   "id": "cf80f6c8",
   "metadata": {},
   "source": [
    "## 1. Understand the Business Requirements\n",
    "\n",
    "**Problem statement:**\n",
    "\n",
    "`Cars dataset with features including make, model, year, engine, and other properties of the car used to predict its price.`"
   ]
  },
  {
   "cell_type": "markdown",
   "id": "bc21c525",
   "metadata": {},
   "source": [
    "## 2. Collecting Data\n",
    "\n",
    "`which was given in .csv file from Kaggle website(link was attached above).`"
   ]
  },
  {
   "cell_type": "markdown",
   "id": "a9bc17b2",
   "metadata": {},
   "source": [
    "## 3. Exploratory Data Analysis(EDA)\n",
    "\n",
    "1. `Checking for Data type of columns`\n",
    "2. `Checking out the Correlation Matrix`\n",
    "3. `Segregating the categorical and numerical features from dataframe`\n",
    "4. `Outlier Analysis`\n"
   ]
  },
  {
   "cell_type": "markdown",
   "id": "c3593b13",
   "metadata": {},
   "source": [
    "## 4. Feature Engineering and Scaling\n",
    "\n",
    "1. `Segregating the target variable`\n",
    "2. `Imputing Missing Values`\n",
    "3. `Removing Outliers`\n",
    "4. `One-Hot Encoding the Categorical columns`\n",
    "5. `Feature Scaling`"
   ]
  },
  {
   "cell_type": "markdown",
   "id": "e6bd76b8",
   "metadata": {},
   "source": [
    "## 5. Selecting and Training Models\n",
    "\n",
    "1. `Linear Regression`\n",
    "2. `Decision Tree`\n",
    "3. `Random Forest`"
   ]
  },
  {
   "cell_type": "markdown",
   "id": "ebabcd70",
   "metadata": {},
   "source": [
    "## 6. Hyperparameter Tuning\n",
    "- `Using GridSearchCV or RandomizedSearchCV`"
   ]
  },
  {
   "cell_type": "markdown",
   "id": "f472619b",
   "metadata": {},
   "source": [
    "## 7. Checking Feature importance"
   ]
  },
  {
   "cell_type": "markdown",
   "id": "3b95a9c6",
   "metadata": {},
   "source": [
    "## 8. Evaluating the entire system on Test Data"
   ]
  },
  {
   "cell_type": "markdown",
   "id": "e06604d8",
   "metadata": {},
   "source": [
    "## 9. Save the Model"
   ]
  },
  {
   "cell_type": "markdown",
   "id": "2c3deeab",
   "metadata": {},
   "source": [
    "## 10. Deploy the Model"
   ]
  }
 ],
 "metadata": {
  "kernelspec": {
   "display_name": "Python 3",
   "language": "python",
   "name": "python3"
  },
  "language_info": {
   "codemirror_mode": {
    "name": "ipython",
    "version": 3
   },
   "file_extension": ".py",
   "mimetype": "text/x-python",
   "name": "python",
   "nbconvert_exporter": "python",
   "pygments_lexer": "ipython3",
   "version": "3.7.10"
  }
 },
 "nbformat": 4,
 "nbformat_minor": 5
}
